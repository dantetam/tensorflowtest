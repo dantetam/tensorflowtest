{
 "cells": [
  {
   "cell_type": "code",
   "execution_count": 2,
   "metadata": {
    "collapsed": true
   },
   "outputs": [],
   "source": [
    "import numpy as np\n",
    "import scipy\n",
    "import scipy.io\n",
    "from random import shuffle"
   ]
  },
  {
   "cell_type": "code",
   "execution_count": 49,
   "metadata": {
    "collapsed": false
   },
   "outputs": [
    {
     "name": "stdout",
     "output_type": "stream",
     "text": [
      "[0.0474, 0.2689, 0.2689, 0.731]\n",
      "[ 56.00745874 -35.1676604   34.26826978]\n",
      "[1.0, 0.9999, 0.7108, 0.0]\n",
      "[  4.17581337e-05   1.94001909e+00   1.93993557e+00]\n"
     ]
    }
   ],
   "source": [
    "def s(data):\n",
    "    return 1 / (1 + np.exp(data))\n",
    "\n",
    "def truncate(f, n):\n",
    "    '''Truncates/pads a float f to n decimal places without rounding'''\n",
    "    s = '{}'.format(f)\n",
    "    if 'e' in s or 'E' in s:\n",
    "        return '{0:.{1}f}'.format(f, n)\n",
    "    i, p, d = s.partition('.')\n",
    "    return '.'.join([i, (d+'0'*n)[:n]])\n",
    "\n",
    "x = np.array([[0,3,1],[1,3,1],[0,1,1],[1,1,1]])\n",
    "y = np.array([1,1,0,0])\n",
    "w = np.array([-2,1,0])\n",
    "result = [0,0,0,0]\n",
    "for i in range(4):\n",
    "    result[i] = float(truncate(s(np.dot(x[i], w)), 4))\n",
    "print(result)\n",
    "\n",
    "w = getNewtonUpdate(w, x, y, 0.07, 1)\n",
    "print(w)\n",
    "\n",
    "result = [0,0,0,0]\n",
    "for i in range(4):\n",
    "    result[i] = float(truncate(s(np.dot(x[i], w)), 4))\n",
    "print(result)\n",
    "\n",
    "w = getNewtonUpdate(w, x, y, 0.07, 1)\n",
    "print(w)"
   ]
  },
  {
   "cell_type": "code",
   "execution_count": 4,
   "metadata": {
    "collapsed": false
   },
   "outputs": [
    {
     "name": "stdout",
     "output_type": "stream",
     "text": [
      "{'description': array(['fixed acidity       ', 'volatile acidity    ',\n",
      "       'citric acid         ', 'residual sugar      ',\n",
      "       'chlorides           ', 'free sulfur dioxide ',\n",
      "       'total sulfur dioxide', 'density             ',\n",
      "       'pH                  ', 'sulphates           ',\n",
      "       'alcohol             ', 'quality             '], \n",
      "      dtype='<U20'), '__globals__': [], '__header__': b'MATLAB 5.0 MAT-file Platform: posix, Created on: Sun Feb 26 19:25:34 2017', 'X': array([[  5.8  ,   0.555,   0.26 , ...,   0.46 ,   9.1  ,   0.5  ],\n",
      "       [  6.3  ,   0.36 ,   0.19 , ...,   0.52 ,  12.7  ,   0.6  ],\n",
      "       [  6.4  ,   0.21 ,   0.5  , ...,   0.43 ,   8.8  ,   0.5  ],\n",
      "       ..., \n",
      "       [  7.3  ,   0.2  ,   0.37 , ...,   0.49 ,  10.9  ,   0.6  ],\n",
      "       [  8.5  ,   0.25 ,   0.27 , ...,   0.33 ,  12.   ,   0.6  ],\n",
      "       [  6.6  ,   0.36 ,   0.21 , ...,   0.41 ,   9.9  ,   0.6  ]]), '__version__': '1.0', 'y': array([[ 0.],\n",
      "       [ 1.],\n",
      "       [ 0.],\n",
      "       ..., \n",
      "       [ 0.],\n",
      "       [ 0.],\n",
      "       [ 0.]]), 'X_test': array([[  8.2 ,   0.22,   0.49, ...,   0.33,  10.6 ,   0.6 ],\n",
      "       [  5.4 ,   0.74,   0.09, ...,   0.56,  11.6 ,   0.6 ],\n",
      "       [  6.9 ,   0.3 ,   0.21, ...,   0.48,   9.  ,   0.5 ],\n",
      "       ..., \n",
      "       [  6.3 ,   0.28,   0.34, ...,   0.29,  12.1 ,   0.6 ],\n",
      "       [  7.8 ,   0.3 ,   0.74, ...,   0.52,  12.8 ,   0.6 ],\n",
      "       [  6.8 ,   0.32,   0.18, ...,   0.41,   8.9 ,   0.5 ]])}\n",
      "-------------\n",
      "[[  5.8     0.555   0.26  ...,   0.46    9.1     0.5  ]\n",
      " [  6.3     0.36    0.19  ...,   0.52   12.7     0.6  ]\n",
      " [  6.4     0.21    0.5   ...,   0.43    8.8     0.5  ]\n",
      " ..., \n",
      " [  7.3     0.2     0.37  ...,   0.49   10.9     0.6  ]\n",
      " [  8.5     0.25    0.27  ...,   0.33   12.      0.6  ]\n",
      " [  6.6     0.36    0.21  ...,   0.41    9.9     0.6  ]]\n",
      "[[ 0.]\n",
      " [ 1.]\n",
      " [ 0.]\n",
      " ..., \n",
      " [ 0.]\n",
      " [ 0.]\n",
      " [ 0.]]\n"
     ]
    }
   ],
   "source": [
    "wineTrain = []\n",
    "wineTrainLabels = []\n",
    "\n",
    "wine = scipy.io.loadmat(\"./data.mat\")\n",
    "\n",
    "print(wine)\n",
    "\n",
    "wineTrain = wine['X']\n",
    "wineTrainLabels = wine['y']\n",
    "\n",
    "print(\"-------------\")\n",
    "\n",
    "print(wineTrain)\n",
    "print(wineTrainLabels)\n",
    "\n",
    "#np.random.shuffle(mnist[\"trainX\"])"
   ]
  },
  {
   "cell_type": "code",
   "execution_count": 34,
   "metadata": {
    "collapsed": false
   },
   "outputs": [
    {
     "name": "stdout",
     "output_type": "stream",
     "text": [
      "0.0619195355429\n",
      "[ 3  6  9 12]\n"
     ]
    }
   ],
   "source": [
    "def s(data):\n",
    "    return 1 / (1 + np.exp(data))\n",
    "\n",
    "print(s(2.718))\n",
    "\n",
    "print(np.dot(np.array([1,2,3,4]), 3))"
   ]
  },
  {
   "cell_type": "code",
   "execution_count": 35,
   "metadata": {
    "collapsed": false
   },
   "outputs": [
    {
     "name": "stdout",
     "output_type": "stream",
     "text": [
      "[[ 3  6  9 12]\n",
      " [15 18 21 24]]\n"
     ]
    }
   ],
   "source": [
    "def f(x):\n",
    "    return x*3\n",
    "\n",
    "f = np.vectorize(f)  # or use a different name if you want to keep the original f\n",
    "\n",
    "result_array = f(np.array([[1,2,3,4],[5,6,7,8]]))  # if A is your Numpy array\n",
    "print(result_array)"
   ]
  },
  {
   "cell_type": "code",
   "execution_count": 36,
   "metadata": {
    "collapsed": true
   },
   "outputs": [],
   "source": [
    "#x is a vector, w is the current weights guess, y is the labels set, \n",
    "#regParam is lambda, the regularization penalty multiplier\n",
    "def firstGradient(w, x, y, regParam):\n",
    "    firstTerm = np.dot(w, 2*regParam)\n",
    "    \n",
    "    xw = np.dot(x, w)\n",
    "    s_vec = np.vectorize(s)\n",
    "    sxw = s_vec(xw)\n",
    "    ysxw = np.subtract(y, sxw)\n",
    "    \n",
    "    secondTerm = np.dot(np.transpose(x), ysxw)\n",
    "    \n",
    "    return np.subtract(firstTerm, secondTerm)"
   ]
  },
  {
   "cell_type": "code",
   "execution_count": 84,
   "metadata": {
    "collapsed": true
   },
   "outputs": [],
   "source": [
    "def randomGradient(w, x, y, regParam, index):\n",
    "    xw = np.dot(x[index], w)\n",
    "    s_vec = np.vectorize(s)\n",
    "    sxw = s_vec(xw)\n",
    "    ysxw = np.subtract(y[index], sxw)\n",
    "    \n",
    "    return np.dot(ysxw, x[index])"
   ]
  },
  {
   "cell_type": "code",
   "execution_count": 45,
   "metadata": {
    "collapsed": true
   },
   "outputs": [],
   "source": [
    "def secondGradient(w, x, regParam):\n",
    "    firstTerm = np.dot(np.identity(len(w)), 2 * regParam)\n",
    "    \n",
    "    xw = np.dot(x, w)\n",
    "    s_vec = np.vectorize(s)\n",
    "    sxw = s_vec(xw)\n",
    "    \n",
    "    def one_minus(x):\n",
    "        return 1 - s(x)\n",
    "    \n",
    "    one_minus_vec = np.vectorize(one_minus)\n",
    "    sxwC = one_minus_vec(xw)\n",
    "    \n",
    "    omega = np.zeros((len(x), len(x)))\n",
    "    \n",
    "    for i in range(len(x)):\n",
    "        omega[i][i] = sxw[i] * sxwC[i]\n",
    "    \n",
    "    secondTerm = np.dot(np.transpose(x), np.dot(omega, x))\n",
    "    \n",
    "    #print(firstTerm.shape)\n",
    "    #print(np.transpose(x).shape)\n",
    "    #print(omega.shape)\n",
    "    #print(x.shape)\n",
    "    \n",
    "    return np.subtract(firstTerm, secondTerm)\n",
    "    "
   ]
  },
  {
   "cell_type": "code",
   "execution_count": 38,
   "metadata": {
    "collapsed": true
   },
   "outputs": [],
   "source": [
    "def getNewtonUpdate(w, x, y, regParam, alpha):\n",
    "    invSecondGrad = np.linalg.inv(secondGradient(w, x, regParam))\n",
    "    firstGrad = firstGradient(w, x, y, regParam)\n",
    "    updateTerm = np.dot(np.dot(invSecondGrad, alpha), firstGrad)\n",
    "    return np.subtract(w, updateTerm)"
   ]
  },
  {
   "cell_type": "code",
   "execution_count": 66,
   "metadata": {
    "collapsed": true
   },
   "outputs": [],
   "source": [
    "def getGradientUpdate(w, x, y, regParam, alpha):\n",
    "    firstGrad = firstGradient(w, x, y, regParam)\n",
    "    updateTerm = np.dot(firstGrad, alpha)\n",
    "    return np.subtract(w, updateTerm)\n",
    "\n",
    "def getStochasticGradientUpdate(w, x, y, regParam, alpha):\n",
    "    firstGrad = randomGradient(w, x, y, regParam, 0)\n",
    "    updateTerm = np.dot(firstGrad, alpha)\n",
    "    return np.subtract(w, updateTerm)"
   ]
  },
  {
   "cell_type": "code",
   "execution_count": 40,
   "metadata": {
    "collapsed": true
   },
   "outputs": [],
   "source": [
    "def calculateCostFromWeight(w, x, y, regParam):\n",
    "    prediction = np.dot(x, w)\n",
    "    error = np.subtract(y, prediction)\n",
    "    sq_error = np.dot(np.transpose(error), error)\n",
    "    \n",
    "    w_sq = np.dot(np.transpose(w), w)\n",
    "    regPenalty = np.dot(w_sq, regParam)\n",
    "    \n",
    "    print(sq_error)\n",
    "    print(regPenalty)\n",
    "    \n",
    "    return sq_error"
   ]
  },
  {
   "cell_type": "code",
   "execution_count": 41,
   "metadata": {
    "collapsed": true
   },
   "outputs": [],
   "source": [
    "def classifyTrain(w, x, y):\n",
    "    numClassify = 0\n",
    "    prediction = np.dot(x, w)\n",
    "    for i in range(len(x)):\n",
    "        #if i < 10:\n",
    "            #print(prediction[i])\n",
    "            #print(y[i])\n",
    "            #print(\"------\")\n",
    "        if prediction[i] < 0 and y[i] == 1:\n",
    "            numClassify += 1\n",
    "        if prediction[i] > 0 and y[i] == 0:\n",
    "            numClassify += 1\n",
    "    accuracy = str(numClassify / float(len(x)))\n",
    "    print(\"Accuracy: \" + accuracy)\n",
    "    return accuracy"
   ]
  },
  {
   "cell_type": "code",
   "execution_count": 42,
   "metadata": {
    "collapsed": true
   },
   "outputs": [],
   "source": [
    "def classifyPredict(w, x):\n",
    "    prediction = np.dot(x, w)\n",
    "    result = []\n",
    "    for i in range(len(x)):\n",
    "        if prediction[i] < 0:\n",
    "            result.append([i, 1])\n",
    "        else:\n",
    "            result.append([i, 0])\n",
    "    temp = np.asarray(result)\n",
    "    np.savetxt(\"submission.csv\", temp, fmt=\"%i,%i\", delimiter=\",\", header=\"Id,Category\")"
   ]
  },
  {
   "cell_type": "code",
   "execution_count": 82,
   "metadata": {
    "collapsed": false
   },
   "outputs": [
    {
     "name": "stdout",
     "output_type": "stream",
     "text": [
      "Accuracy: 0.8568333333333333\n",
      "Accuracy: 0.8751666666666666\n",
      "Accuracy: 0.8976666666666666\n",
      "Accuracy: 0.9158333333333334\n",
      "Accuracy: 0.9286666666666666\n",
      "Accuracy: 0.9385\n",
      "Accuracy: 0.9483333333333334\n",
      "Accuracy: 0.9545\n",
      "Accuracy: 0.9591666666666666\n",
      "Accuracy: 0.9628333333333333\n"
     ]
    }
   ],
   "source": [
    "weightsGuess = np.zeros((12,1))\n",
    "\n",
    "alpha = 0.1\n",
    "regParam = 1\n",
    "\n",
    "normal_log_reg_acc = []\n",
    "\n",
    "for i in range(10):\n",
    "    weightsGuess = getNewtonUpdate(weightsGuess, wineTrain, wineTrainLabels, regParam, alpha)\n",
    "    #cost = calculateCostFromWeight(weightsGuess, wineTrain, wineTrainLabels, regParam)\n",
    "    #print(cost)\n",
    "    \n",
    "    #print(weightsGuess)\n",
    "    #if i % 10 == 0:\n",
    "    acc = classifyTrain(weightsGuess, wineTrain, wineTrainLabels)\n",
    "    normal_log_reg_acc.append(1 - float(acc))\n",
    "\n",
    "classifyPredict(weightsGuess, wine[\"X_test\"])"
   ]
  },
  {
   "cell_type": "code",
   "execution_count": 73,
   "metadata": {
    "collapsed": false
   },
   "outputs": [
    {
     "name": "stdout",
     "output_type": "stream",
     "text": [
      "[[ 2076.42669977]]\n",
      "[[ 11.69669147]]\n",
      "Accuracy: 0.8568333333333333\n",
      "[[ 2527.13897614]]\n",
      "[[ 21.54427923]]\n",
      "Accuracy: 0.87\n",
      "[[ 2866.91583087]]\n",
      "[[ 27.84126769]]\n",
      "Accuracy: 0.877\n",
      "[[ 3139.92370457]]\n",
      "[[ 32.23264719]]\n",
      "Accuracy: 0.884\n",
      "[[ 3368.84090753]]\n",
      "[[ 35.50629752]]\n",
      "Accuracy: 0.8891666666666667\n",
      "[[ 3566.45990945]]\n",
      "[[ 38.06388943]]\n",
      "Accuracy: 0.8923333333333333\n",
      "[[ 3740.67088867]]\n",
      "[[ 40.13142896]]\n",
      "Accuracy: 0.8958333333333334\n",
      "[[ 3896.68311564]]\n",
      "[[ 41.84652548]]\n",
      "Accuracy: 0.8986666666666666\n",
      "[[ 4038.11940629]]\n",
      "[[ 43.29824939]]\n",
      "Accuracy: 0.9\n",
      "[[ 4167.60382092]]\n",
      "[[ 44.54709442]]\n",
      "Accuracy: 0.9021666666666667\n"
     ]
    }
   ],
   "source": [
    "weightsGuess = np.zeros((12,1))\n",
    "\n",
    "alpha = 0.1\n",
    "regParam = 1\n",
    "\n",
    "special_log_reg_acc = []\n",
    "\n",
    "for i in range(10):\n",
    "    weightsGuess = getNewtonUpdate(weightsGuess, wineTrain, wineTrainLabels, regParam, alpha/float(i + 1))\n",
    "    cost = calculateCostFromWeight(weightsGuess, wineTrain, wineTrainLabels, regParam)\n",
    "    #print(cost)\n",
    "    \n",
    "    #print(weightsGuess)\n",
    "    #if i % 10 == 0:\n",
    "    acc = classifyTrain(weightsGuess, wineTrain, wineTrainLabels)\n",
    "    special_log_reg_acc.append(1 - float(acc))\n",
    "\n",
    "classifyPredict(weightsGuess, wine[\"X_test\"])"
   ]
  },
  {
   "cell_type": "code",
   "execution_count": 52,
   "metadata": {
    "collapsed": true
   },
   "outputs": [],
   "source": [
    "%matplotlib inline\n",
    "\n",
    "import matplotlib\n",
    "import numpy as np\n",
    "import matplotlib.pyplot as plt"
   ]
  },
  {
   "cell_type": "code",
   "execution_count": 63,
   "metadata": {
    "collapsed": false
   },
   "outputs": [
    {
     "data": {
      "image/png": "[encoded data removed]",
      "text/plain": [
       "<matplotlib.figure.Figure at 0x93f9eb8>"
      ]
     },
     "metadata": {},
     "output_type": "display_data"
    },
    {
     "data": {
      "image/png": "[encoded data removed]",
      "text/plain": [
       "<matplotlib.figure.Figure at 0x9460eb8>"
      ]
     },
     "metadata": {},
     "output_type": "display_data"
    }
   ],
   "source": [
    "xData = [1,2,3,4,5,6,7,8,9,10]\n",
    "\n",
    "plt.plot(xData, normal_log_reg_acc, 'b-')\n",
    "plt.xlabel('Iterations')\n",
    "plt.ylabel('Normalized Loss')\n",
    "plt.show()\n",
    "\n",
    "plt.plot(xData, special_log_reg_acc, 'r-')\n",
    "\n",
    "plt.show()"
   ]
  },
  {
   "cell_type": "code",
   "execution_count": null,
   "metadata": {
    "collapsed": true
   },
   "outputs": [],
   "source": []
  }
 ],
 "metadata": {
  "kernelspec": {
   "display_name": "Python 3",
   "language": "python",
   "name": "python3"
  },
  "language_info": {
   "codemirror_mode": {
    "name": "ipython",
    "version": 3
   },
   "file_extension": ".py",
   "mimetype": "text/x-python",
   "name": "python",
   "nbconvert_exporter": "python",
   "pygments_lexer": "ipython3",
   "version": "3.4.5"
  }
 },
 "nbformat": 4,
 "nbformat_minor": 1
}
