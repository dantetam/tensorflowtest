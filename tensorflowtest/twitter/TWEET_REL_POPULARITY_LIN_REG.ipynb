{
 "cells": [
  {
   "cell_type": "code",
   "execution_count": 1,
   "metadata": {
    "collapsed": false
   },
   "outputs": [],
   "source": [
    "import numpy as np\n",
    "\n",
    "import sklearn\n",
    "\n",
    "from sklearn.preprocessing import normalize\n",
    "from sklearn import datasets, linear_model\n",
    "\n",
    "from random import shuffle"
   ]
  },
  {
   "cell_type": "code",
   "execution_count": 8,
   "metadata": {
    "collapsed": true
   },
   "outputs": [],
   "source": [
    "def quoteCustomSplit(text):\n",
    "    firstIndex, secondIndex = -1,-1\n",
    "    for i in range(len(text)):\n",
    "        c_i = text[i]\n",
    "        c_l = text[i-1] if i > 0 else None\n",
    "        c_r = text[i+1] if i < len(text) - 1 else None\n",
    "        if c_i == '\"' and c_l != \"\\\\\" and firstIndex == -1:\n",
    "            firstIndex = i\n",
    "        elif c_i == '\"' and c_r == ',' and firstIndex != -1:\n",
    "            secondIndex = i\n",
    "            newText = text[0:firstIndex] + text[firstIndex:secondIndex].replace(\",\", \"\") + text[secondIndex:]\n",
    "    return newText.split(\",\")\n",
    "  \n",
    "def readTwitterData(fname):\n",
    "    parsedX = []\n",
    "    parsedY = []\n",
    "    \n",
    "    with open(fname) as f:\n",
    "        content = f.readlines()\n",
    "    content = [x.strip() for x in content] \n",
    "    contentParsed = [text for text in content if len(text) > 0]\n",
    "\n",
    "    for line in contentParsed:\n",
    "        data = quoteCustomSplit(line)\n",
    "        label = float(data[len(data) - 1])\n",
    "        parsedY.append(label)\n",
    "\n",
    "        newPoint = [float(x) for x in data[2:(len(data) - 4)]]\n",
    "\n",
    "        if data[1] == \"N\": newPoint = [1,0,0,0,0] + newPoint\n",
    "        if data[1] == \"A\": newPoint = [0,1,0,0,0] + newPoint\n",
    "        if data[1] == \"S\": newPoint = [0,0,1,0,0] + newPoint\n",
    "        if data[1] == \"H\": newPoint = [0,0,0,1,0] + newPoint\n",
    "        if data[1] == \"F\": newPoint = [0,0,0,0,1] + newPoint\n",
    "\n",
    "        if data[0] == \"S\": newPoint = [1,0,0,0] + newPoint\n",
    "        if data[0] == \"C\": newPoint = [0,1,0,0] + newPoint\n",
    "        if data[0] == \"P\": newPoint = [0,0,1,0] + newPoint\n",
    "        if data[0] == \"T\": newPoint = [0,0,0,1] + newPoint\n",
    "\n",
    "        parsedX.append(newPoint)\n",
    "\n",
    "    f.close()\n",
    "\n",
    "    return parsedX, parsedY"
   ]
  },
  {
   "cell_type": "code",
   "execution_count": 10,
   "metadata": {
    "collapsed": false
   },
   "outputs": [
    {
     "name": "stdout",
     "output_type": "stream",
     "text": [
      "Coefficients: \n",
      "\n",
      "Topic: Sports -> 32.90\n",
      "Topic: Culture -> 20.60\n",
      "Topic: Politics -> 22.98\n",
      "Topic: Twitter/Misc. -> 0.00\n",
      "Emotion: Neutral -> 11.78\n",
      "Emotion: Angry -> 20.04\n",
      "Emotion: Sad -> 10.99\n",
      "Emotion: Happy/Hopeful -> 16.87\n",
      "Emotion: Funny/Satirical -> 16.80\n",
      "TIME2_6 -> 18.05\n",
      "TIME6_10 -> 7.23\n",
      "TIME10_14 -> 9.28\n",
      "TIME14_18 -> 15.45\n",
      "TIME18_22 -> 11.71\n",
      "TIME22_2 -> 14.75\n",
      "DATE_SUN -> 9.24\n",
      "DATE_MON -> -1.45\n",
      "DATE_TUE -> 28.30\n",
      "DATE_WED -> 0.00\n",
      "DATE_THU -> 14.28\n",
      "DATE_FRI -> 7.49\n",
      "DATE_SAT -> 18.61\n",
      "PHOTO -> -2.40\n",
      "VIDEO -> -1.28\n",
      "ANIMATED_GIF -> 0.19\n",
      "LOG10_USER_FAV -> -5.14\n",
      "LOG10_USER_STATUS_COUNT -> -28.08\n",
      "\n",
      "\n",
      "Mean squared error: 12.636830\n",
      "Variance score: 0.297129\n"
     ]
    }
   ],
   "source": [
    "dataX, dataY = readTwitterData(\"vectorized_tweets.txt\")\n",
    "\n",
    "dataX = np.array(dataX)\n",
    "dataY = np.array(dataY)\n",
    "\n",
    "dataX = sklearn.preprocessing.normalize(dataX, axis=1)\n",
    "\n",
    "bestX, bestY = None, None\n",
    "\n",
    "regr = linear_model.LinearRegression()\n",
    "regr.fit(dataX, dataY)\n",
    "\n",
    "np.set_printoptions(suppress=True)\n",
    "\n",
    "linRegColumns = [\"Topic: Sports\", \"Topic: Culture\", \"Topic: Politics\", \"Topic: Twitter/Misc.\",\n",
    "          \"Emotion: Neutral\", \"Emotion: Angry\", \"Emotion: Sad\", \"Emotion: Happy/Hopeful\", \"Emotion: Funny/Satirical\",\n",
    "          \"TIME2_6\",\"TIME6_10\",\"TIME10_14\",\"TIME14_18\",\"TIME18_22\",\"TIME22_2\",\n",
    "          \"DATE_SUN\",\"DATE_MON\",\"DATE_TUE\",\"DATE_WED\",\"DATE_THU\",\"DATE_FRI\",\"DATE_SAT\",\n",
    "          \"PHOTO\",\"VIDEO\",\"ANIMATED_GIF\",\n",
    "          \"LOG10_USER_FAV\",\"LOG10_USER_STATUS_COUNT\"]\n",
    "\n",
    "# The coefficients\n",
    "print('Coefficients: \\n')\n",
    "\n",
    "for i in range(len(linRegColumns)):\n",
    "    print(linRegColumns[i] + \" -> %.2f\" % regr.coef_[i])\n",
    "\n",
    "print('\\n')    \n",
    "    \n",
    "# The mean squared error\n",
    "print(\"Mean squared error: %f\"\n",
    "      % np.mean((regr.predict(dataX) - dataY) ** 2))\n",
    "# Explained variance score: 1 is perfect prediction\n",
    "print('Variance score: %f' % regr.score(dataX, dataY))\n",
    "\n",
    "\n",
    "#clf = SVC()\n",
    "#clf.fit(dataX, dataY)\n",
    "#acc = clf.score(dataX, dataY)\n",
    "#print(acc)"
   ]
  },
  {
   "cell_type": "code",
   "execution_count": null,
   "metadata": {
    "collapsed": true
   },
   "outputs": [],
   "source": []
  }
 ],
 "metadata": {
  "kernelspec": {
   "display_name": "Python 3",
   "language": "python",
   "name": "python3"
  },
  "language_info": {
   "codemirror_mode": {
    "name": "ipython",
    "version": 3
   },
   "file_extension": ".py",
   "mimetype": "text/x-python",
   "name": "python",
   "nbconvert_exporter": "python",
   "pygments_lexer": "ipython3",
   "version": "3.4.5"
  }
 },
 "nbformat": 4,
 "nbformat_minor": 1
}
