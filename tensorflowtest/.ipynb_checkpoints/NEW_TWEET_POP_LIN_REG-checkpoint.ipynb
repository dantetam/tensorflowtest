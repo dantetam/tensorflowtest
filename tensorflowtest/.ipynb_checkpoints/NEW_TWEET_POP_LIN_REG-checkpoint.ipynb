{
 "cells": [
  {
   "cell_type": "code",
   "execution_count": 1,
   "metadata": {
    "collapsed": false
   },
   "outputs": [],
   "source": [
    "import numpy as np\n",
    "\n",
    "import sklearn\n",
    "\n",
    "from sklearn.preprocessing import normalize\n",
    "from sklearn import datasets, linear_model\n",
    "\n",
    "from random import shuffle"
   ]
  },
  {
   "cell_type": "code",
   "execution_count": 2,
   "metadata": {
    "collapsed": true
   },
   "outputs": [],
   "source": [
    "def loadTopicCategoryDict(fname):\n",
    "    result = {}\n",
    "    with open(fname) as f:\n",
    "        content = f.readlines()\n",
    "    content = [x.strip() for x in content] \n",
    "    contentParsed = [text for text in content if len(text) > 0]\n",
    "    for line in contentParsed:\n",
    "        tokens = line.split(\",\")\n",
    "        result[tokens[0]] = tokens[1]\n",
    "    return result\n",
    "        \n",
    "def quoteCustomSplit(text):\n",
    "    firstIndex, secondIndex = -1,-1\n",
    "    for i in range(len(text)):\n",
    "        c_i = text[i]\n",
    "        c_l = text[i-1] if i > 0 else None\n",
    "        c_r = text[i+1] if i < len(text) - 1 else None\n",
    "        if c_i == '\"' and c_l != \"\\\\\" and firstIndex == -1:\n",
    "            firstIndex = i\n",
    "        elif c_i == '\"' and c_r == ',' and firstIndex != -1:\n",
    "            secondIndex = i\n",
    "            newText = text[0:firstIndex] + text[firstIndex:secondIndex].replace(\",\", \"\") + text[secondIndex:]\n",
    "    return newText.split(\",\")\n",
    "  \n",
    "def readTwitterData(fname, topicCategoryDict):\n",
    "    parsedX = []\n",
    "    parsedY = []\n",
    "    \n",
    "    with open(fname) as f:\n",
    "        content = f.readlines()\n",
    "    content = [x.strip() for x in content] \n",
    "    contentParsed = [text for text in content if len(text) > 0]\n",
    "\n",
    "    for line in contentParsed:\n",
    "        data = quoteCustomSplit(line)\n",
    "\n",
    "        newPoint = [float(x) for x in data[1:(len(data) - 4)]]\n",
    "\n",
    "        topic = data[len(data) - 4]\n",
    "        \n",
    "        if topic not in topicCategoryDict:\n",
    "            print(\"Could not find topic: \" + topic)\n",
    "            print(topicCategoryDict)\n",
    "            print(\"-------------------\")\n",
    "        \n",
    "        category = topicCategoryDict[topic]\n",
    "    \n",
    "\n",
    "        if category == \"S\": newPoint = [1,0,0,0] + newPoint\n",
    "        if category == \"C\": newPoint = [0,1,0,0] + newPoint\n",
    "        if category == \"P\": newPoint = [0,0,1,0] + newPoint\n",
    "        if category == \"T\": newPoint = [0,0,0,1] + newPoint\n",
    "\n",
    "        parsedX.append(newPoint)\n",
    "        \n",
    "        label = float(data[len(data) - 1])\n",
    "        parsedY.append(label)\n",
    "\n",
    "    f.close()\n",
    "\n",
    "    return parsedX, parsedY"
   ]
  },
  {
   "cell_type": "code",
   "execution_count": 5,
   "metadata": {
    "collapsed": false
   },
   "outputs": [
    {
     "ename": "KeyError",
     "evalue": "'Paraná'",
     "output_type": "error",
     "traceback": [
      "\u001b[0;31m---------------------------------------------------------------------------\u001b[0m",
      "\u001b[0;31mKeyError\u001b[0m                                  Traceback (most recent call last)",
      "\u001b[0;32m<ipython-input-5-76877ecf87de>\u001b[0m in \u001b[0;36m<module>\u001b[0;34m()\u001b[0m\n\u001b[1;32m      1\u001b[0m \u001b[0mtopicDict\u001b[0m \u001b[1;33m=\u001b[0m \u001b[0mloadTopicCategoryDict\u001b[0m\u001b[1;33m(\u001b[0m\u001b[1;34m\"new_tweet_topics_category_dict.txt\"\u001b[0m\u001b[1;33m)\u001b[0m\u001b[1;33m\u001b[0m\u001b[0m\n\u001b[0;32m----> 2\u001b[0;31m \u001b[0mdataX\u001b[0m\u001b[1;33m,\u001b[0m \u001b[0mdataY\u001b[0m \u001b[1;33m=\u001b[0m \u001b[0mreadTwitterData\u001b[0m\u001b[1;33m(\u001b[0m\u001b[1;34m\"new_tweets.txt\"\u001b[0m\u001b[1;33m,\u001b[0m \u001b[0mtopicDict\u001b[0m\u001b[1;33m)\u001b[0m\u001b[1;33m\u001b[0m\u001b[0m\n\u001b[0m\u001b[1;32m      3\u001b[0m \u001b[1;33m\u001b[0m\u001b[0m\n\u001b[1;32m      4\u001b[0m \u001b[0mdataX\u001b[0m \u001b[1;33m=\u001b[0m \u001b[0mnp\u001b[0m\u001b[1;33m.\u001b[0m\u001b[0marray\u001b[0m\u001b[1;33m(\u001b[0m\u001b[0mdataX\u001b[0m\u001b[1;33m)\u001b[0m\u001b[1;33m\u001b[0m\u001b[0m\n\u001b[1;32m      5\u001b[0m \u001b[0mdataY\u001b[0m \u001b[1;33m=\u001b[0m \u001b[0mnp\u001b[0m\u001b[1;33m.\u001b[0m\u001b[0marray\u001b[0m\u001b[1;33m(\u001b[0m\u001b[0mdataY\u001b[0m\u001b[1;33m)\u001b[0m\u001b[1;33m\u001b[0m\u001b[0m\n",
      "\u001b[0;32m<ipython-input-2-7f27ffd5cc92>\u001b[0m in \u001b[0;36mreadTwitterData\u001b[0;34m(fname, topicCategoryDict)\u001b[0m\n\u001b[1;32m     40\u001b[0m \u001b[1;33m\u001b[0m\u001b[0m\n\u001b[1;32m     41\u001b[0m         \u001b[0mtopic\u001b[0m \u001b[1;33m=\u001b[0m \u001b[0mdata\u001b[0m\u001b[1;33m[\u001b[0m\u001b[0mlen\u001b[0m\u001b[1;33m(\u001b[0m\u001b[0mdata\u001b[0m\u001b[1;33m)\u001b[0m \u001b[1;33m-\u001b[0m \u001b[1;36m4\u001b[0m\u001b[1;33m]\u001b[0m\u001b[1;33m\u001b[0m\u001b[0m\n\u001b[0;32m---> 42\u001b[0;31m         \u001b[0mcategory\u001b[0m \u001b[1;33m=\u001b[0m \u001b[0mtopicCategoryDict\u001b[0m\u001b[1;33m[\u001b[0m\u001b[0mtopic\u001b[0m\u001b[1;33m]\u001b[0m\u001b[1;33m\u001b[0m\u001b[0m\n\u001b[0m\u001b[1;32m     43\u001b[0m \u001b[1;33m\u001b[0m\u001b[0m\n\u001b[1;32m     44\u001b[0m         \u001b[1;32mif\u001b[0m \u001b[0mcategory\u001b[0m \u001b[1;33m==\u001b[0m \u001b[1;34m\"S\"\u001b[0m\u001b[1;33m:\u001b[0m \u001b[0mnewPoint\u001b[0m \u001b[1;33m=\u001b[0m \u001b[1;33m[\u001b[0m\u001b[1;36m1\u001b[0m\u001b[1;33m,\u001b[0m\u001b[1;36m0\u001b[0m\u001b[1;33m,\u001b[0m\u001b[1;36m0\u001b[0m\u001b[1;33m,\u001b[0m\u001b[1;36m0\u001b[0m\u001b[1;33m]\u001b[0m \u001b[1;33m+\u001b[0m \u001b[0mnewPoint\u001b[0m\u001b[1;33m\u001b[0m\u001b[0m\n",
      "\u001b[0;31mKeyError\u001b[0m: 'Paraná'"
     ]
    }
   ],
   "source": [
    "topicDict = loadTopicCategoryDict(\"new_tweet_topics_category_dict.txt\")\n",
    "dataX, dataY = readTwitterData(\"new_tweets.txt\", topicDict)\n",
    "\n",
    "dataX = np.array(dataX)\n",
    "dataY = np.array(dataY)\n",
    "\n",
    "dataX = sklearn.preprocessing.normalize(dataX, axis=1)\n",
    "\n",
    "bestX, bestY = None, None\n",
    "\n",
    "regr = linear_model.LinearRegression()\n",
    "regr.fit(dataX, dataY)\n",
    "\n",
    "np.set_printoptions(suppress=True)\n",
    "\n",
    "\"\"\"\n",
    "linRegColumns = [\"Topic: Sports\", \"Topic: Culture\", \"Topic: Politics\", \"Topic: Twitter/Misc.\",\n",
    "          \"Emotion: Neutral\", \"Emotion: Angry\", \"Emotion: Sad\", \"Emotion: Happy/Hopeful\", \"Emotion: Funny/Satirical\",\n",
    "          \"TIME2_6\",\"TIME6_10\",\"TIME10_14\",\"TIME14_18\",\"TIME18_22\",\"TIME22_2\",\n",
    "          \"DATE_SUN\",\"DATE_MON\",\"DATE_TUE\",\"DATE_WED\",\"DATE_THU\",\"DATE_FRI\",\"DATE_SAT\",\n",
    "          \"PHOTO\",\"VIDEO\",\"ANIMATED_GIF\",\n",
    "          \"LOG10_USER_FAV\",\"LOG10_USER_STATUS_COUNT\"]\n",
    "\"\"\"\n",
    "\n",
    "# The coefficients\n",
    "print('Coefficients: \\n')\n",
    "\n",
    "for i in range(len(regr.coef_)):\n",
    "    print(\" -> %.2f\" % regr.coef_[i])\n",
    "\n",
    "print('\\n')    \n",
    "    \n",
    "# The mean squared error\n",
    "print(\"Mean squared error: %f\"\n",
    "      % np.mean((regr.predict(dataX) - dataY) ** 2))\n",
    "# Explained variance score: 1 is perfect prediction\n",
    "print('Variance score: %f' % regr.score(dataX, dataY))\n",
    "\n",
    "\n",
    "#clf = SVC()\n",
    "#clf.fit(dataX, dataY)\n",
    "#acc = clf.score(dataX, dataY)\n",
    "#print(acc)"
   ]
  },
  {
   "cell_type": "code",
   "execution_count": null,
   "metadata": {
    "collapsed": true
   },
   "outputs": [],
   "source": []
  }
 ],
 "metadata": {
  "kernelspec": {
   "display_name": "Python 3",
   "language": "python",
   "name": "python3"
  },
  "language_info": {
   "codemirror_mode": {
    "name": "ipython",
    "version": 3
   },
   "file_extension": ".py",
   "mimetype": "text/x-python",
   "name": "python",
   "nbconvert_exporter": "python",
   "pygments_lexer": "ipython3",
   "version": "3.4.5"
  }
 },
 "nbformat": 4,
 "nbformat_minor": 1
}
