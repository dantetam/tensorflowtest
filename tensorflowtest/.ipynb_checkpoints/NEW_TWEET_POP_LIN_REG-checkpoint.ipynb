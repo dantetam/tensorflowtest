{
 "cells": [
  {
   "cell_type": "code",
   "execution_count": 1,
   "metadata": {
    "collapsed": false
   },
   "outputs": [],
   "source": [
    "import numpy as np\n",
    "\n",
    "import sklearn\n",
    "\n",
    "from sklearn.preprocessing import normalize\n",
    "from sklearn import datasets, linear_model\n",
    "\n",
    "from random import shuffle"
   ]
  },
  {
   "cell_type": "code",
   "execution_count": 32,
   "metadata": {
    "collapsed": true
   },
   "outputs": [],
   "source": [
    "def loadTopicCategoryDict(fname):\n",
    "    result = {}\n",
    "    with open(fname, encoding=\"iso-8859-1\") as f:\n",
    "        content = f.readlines()\n",
    "    content = [x.strip() for x in content] \n",
    "    contentParsed = [text for text in content if len(text) > 0]\n",
    "    for line in contentParsed:\n",
    "        tokens = line.split(\",\")\n",
    "        result[tokens[0]] = tokens[1]\n",
    "    return result\n",
    "        \n",
    "def quoteCustomSplit(text):\n",
    "    firstIndex, secondIndex = -1,-1\n",
    "    for i in range(len(text)):\n",
    "        c_i = text[i]\n",
    "        c_l = text[i-1] if i > 0 else None\n",
    "        c_r = text[i+1] if i < len(text) - 1 else None\n",
    "        if c_i == '\"' and c_l != \"\\\\\" and firstIndex == -1:\n",
    "            firstIndex = i\n",
    "        elif c_i == '\"' and c_r == ',' and firstIndex != -1:\n",
    "            secondIndex = i\n",
    "            newText = text[0:firstIndex] + text[firstIndex:secondIndex].replace(\",\", \"\") + text[secondIndex:]\n",
    "    return newText.split(\",\")\n",
    "  \n",
    "def readTwitterData(fname, topicCategoryDict):\n",
    "    parsedX = []\n",
    "    parsedY = []\n",
    "    \n",
    "    with open(fname) as f:\n",
    "        content = f.readlines()\n",
    "    content = [x.strip() for x in content] \n",
    "    contentParsed = [text for text in content if len(text) > 0]\n",
    "\n",
    "    for line in contentParsed:\n",
    "        data = quoteCustomSplit(line)\n",
    "\n",
    "        newPoint = [float(x) for x in data[1:(len(data) - 4 - 3)]]\n",
    "\n",
    "        topic = data[len(data) - 4]\n",
    "        \n",
    "        if topic not in topicCategoryDict:\n",
    "            print(\"Could not find topic: \" + topic)\n",
    "            #print(topicCategoryDict)\n",
    "            print(\"-------------------\")\n",
    "            continue\n",
    "        \n",
    "        category = topicCategoryDict[topic]\n",
    "    \n",
    "\n",
    "        if category == \"S\": newPoint = [1,0,0,0] + newPoint\n",
    "        if category == \"C\": newPoint = [0,1,0,0] + newPoint\n",
    "        if category == \"P\": newPoint = [0,0,1,0] + newPoint\n",
    "        if category == \"T\": newPoint = [0,0,0,1] + newPoint\n",
    "\n",
    "        parsedX.append(newPoint)\n",
    "        \n",
    "        label = 1.0 if float(data[len(data) - 1]) > 0.5 else 0.0\n",
    "        parsedY.append(label)\n",
    "\n",
    "    f.close()\n",
    "\n",
    "    return parsedX, parsedY"
   ]
  },
  {
   "cell_type": "code",
   "execution_count": 43,
   "metadata": {
    "collapsed": false
   },
   "outputs": [
    {
     "name": "stdout",
     "output_type": "stream",
     "text": [
      "Could not find topic: Paraná\n",
      "-------------------\n",
      "Could not find topic: Paraná\n",
      "-------------------\n",
      "Could not find topic: Paraná\n",
      "-------------------\n",
      "Could not find topic: Paraná\n",
      "-------------------\n",
      "[      0.       1.       0.       0.       0.       1.       0.       0.\n",
      "       0.       0.       0.       0.       0.       0.       0.       0.\n",
      "       0.       0.       0.       0.       1.       0.       0.       0.\n",
      "       0.       0.       0.    1769.  175957.]\n",
      "0.0\n",
      "[ 0.          0.06019293  0.          0.          0.          0.10540926\n",
      "  0.          0.          0.          0.          0.          0.          0.\n",
      "  0.          0.          0.          0.          0.          0.          0.\n",
      "  0.07738232  0.          0.          0.          0.          0.          0.\n",
      "  0.00386718  0.06919319]\n",
      "0.0\n"
     ]
    },
    {
     "ename": "TypeError",
     "evalue": "__init__() got an unexpected keyword argument 'normalize'",
     "output_type": "error",
     "traceback": [
      "\u001b[0;31m---------------------------------------------------------------------------\u001b[0m",
      "\u001b[0;31mTypeError\u001b[0m                                 Traceback (most recent call last)",
      "\u001b[0;32m<ipython-input-43-7787499c3328>\u001b[0m in \u001b[0;36m<module>\u001b[0;34m()\u001b[0m\n\u001b[1;32m     15\u001b[0m \u001b[0mbestX\u001b[0m\u001b[1;33m,\u001b[0m \u001b[0mbestY\u001b[0m \u001b[1;33m=\u001b[0m \u001b[1;32mNone\u001b[0m\u001b[1;33m,\u001b[0m \u001b[1;32mNone\u001b[0m\u001b[1;33m\u001b[0m\u001b[0m\n\u001b[1;32m     16\u001b[0m \u001b[1;33m\u001b[0m\u001b[0m\n\u001b[0;32m---> 17\u001b[0;31m \u001b[0mregr\u001b[0m \u001b[1;33m=\u001b[0m \u001b[0mlinear_model\u001b[0m\u001b[1;33m.\u001b[0m\u001b[0mLogisticRegression\u001b[0m\u001b[1;33m(\u001b[0m\u001b[0mnormalize\u001b[0m\u001b[1;33m=\u001b[0m\u001b[1;32mTrue\u001b[0m\u001b[1;33m)\u001b[0m\u001b[1;33m\u001b[0m\u001b[0m\n\u001b[0m\u001b[1;32m     18\u001b[0m \u001b[0mregr\u001b[0m\u001b[1;33m.\u001b[0m\u001b[0mfit\u001b[0m\u001b[1;33m(\u001b[0m\u001b[0mdataX\u001b[0m\u001b[1;33m,\u001b[0m \u001b[0mdataY\u001b[0m\u001b[1;33m)\u001b[0m\u001b[1;33m\u001b[0m\u001b[0m\n\u001b[1;32m     19\u001b[0m \u001b[1;33m\u001b[0m\u001b[0m\n",
      "\u001b[0;31mTypeError\u001b[0m: __init__() got an unexpected keyword argument 'normalize'"
     ]
    }
   ],
   "source": [
    "topicDict = loadTopicCategoryDict(\"new_tweet_topics_category_dict.txt\")\n",
    "dataX, dataY = readTwitterData(\"new_tweets.txt\", topicDict)\n",
    "\n",
    "dataX = np.array(dataX)\n",
    "dataY = np.array(dataY)\n",
    "\n",
    "print(dataX[0])\n",
    "print(dataY[0])\n",
    "\n",
    "dataX = sklearn.preprocessing.normalize(dataX, axis=0)\n",
    "\n",
    "print(dataX[0])\n",
    "print(dataY[0])\n",
    "\n",
    "bestX, bestY = None, None\n",
    "\n",
    "regr = linear_model.LogisticRegression()\n",
    "regr.fit(dataX, dataY)\n",
    "\n",
    "np.set_printoptions(suppress=True)\n",
    "\n",
    "\"\"\"\n",
    "linRegColumns = [\"Topic: Sports\", \"Topic: Culture\", \"Topic: Politics\", \"Topic: Twitter/Misc.\",\n",
    "          \"Emotion: Neutral\", \"Emotion: Angry\", \"Emotion: Sad\", \"Emotion: Happy/Hopeful\", \"Emotion: Funny/Satirical\",\n",
    "          \"TIME2_6\",\"TIME6_10\",\"TIME10_14\",\"TIME14_18\",\"TIME18_22\",\"TIME22_2\",\n",
    "          \"DATE_SUN\",\"DATE_MON\",\"DATE_TUE\",\"DATE_WED\",\"DATE_THU\",\"DATE_FRI\",\"DATE_SAT\",\n",
    "          \"PHOTO\",\"VIDEO\",\"ANIMATED_GIF\",\n",
    "          \"LOG10_USER_FAV\",\"LOG10_USER_STATUS_COUNT\"]\n",
    "\"\"\"\n",
    "\n",
    "allColumnsString = \"Topic: Sports,Topic: Culture,Topic: Politics,Topic: Twitter/Misc.,SENTIMENT,\" \\\n",
    "\"TIME2_4,TIME4_6,TIME6_8,TIME8_10,TIME10_12,TIME12_14,TIME14_16,TIME16_18,TIME18_20,TIME20_22,TIME22_24,TIME24_2,\"\\\n",
    "\"DATE_SUN,DATE_MON,DATE_TUE,DATE_WED,DATE_THU,DATE_FRI,DATE_SAT,\"\\\n",
    "\"PHOTO,VIDEO,ANIMATED_GIF,\"\\\n",
    "\"USER_FAV,USER_STATUS_COUNT,\"\\\n",
    "\"FAVORITES,RETWEETS,TOPIC_SCORE,\"\\\n",
    "\"TOPIC,TEXT,SANITIZED_TEXT,\"\\\n",
    "\"SCORE\"\n",
    "\n",
    "linRegColumns = allColumnsString.split(\",\")\n",
    "\n",
    "# The coefficients\n",
    "print('Coefficients: \\n')\n",
    "\n",
    "for i in range(len(regr.coef_)):\n",
    "    print(linRegColumns[i] + \" -> %.2f\" % regr.coef_[i])\n",
    "\n",
    "print('\\n')    \n",
    "    \n",
    "# The mean squared error\n",
    "print(\"Mean squared error: %f\"\n",
    "      % np.mean((regr.predict(dataX) - dataY) ** 2))\n",
    "# Explained variance score: 1 is perfect prediction\n",
    "print('Variance score: %f' % regr.score(dataX, dataY))\n",
    "\n",
    "\n",
    "for i in range(100):\n",
    "    pred = np.dot(regr.coef_.T, dataX[i])\n",
    "    actual = dataY[i]\n",
    "    print(str(pred) + \" \" + str(actual))\n",
    "\n",
    "\n",
    "#clf = SVC()\n",
    "#clf.fit(dataX, dataY)\n",
    "#acc = clf.score(dataX, dataY)\n",
    "#print(acc)"
   ]
  },
  {
   "cell_type": "code",
   "execution_count": 35,
   "metadata": {
    "collapsed": false
   },
   "outputs": [
    {
     "name": "stdout",
     "output_type": "stream",
     "text": [
      "[  2.97617565e+14   1.13432185e+15   5.28880291e+14   5.79359332e+14\n",
      "   3.75000000e-01  -3.21994687e+14  -2.42388795e+14  -1.85903719e+14\n",
      "  -1.35764881e+14  -1.07331562e+14  -1.85903719e+14  -2.53992834e+14\n",
      "  -1.66277341e+14  -1.01823661e+14  -1.07331562e+14  -1.39943236e+14\n",
      "  -3.11076421e+14  -1.42628978e+13  -8.41079623e+13  -2.35402145e+14\n",
      "  -4.43730950e+14  -4.94022420e+14  -1.26416955e+13   3.20442705e+13\n",
      "   7.18750000e-01  -8.41308594e-01  -6.64062500e-02  -3.53515625e-01\n",
      "  -3.78857422e+00]\n",
      "Mean squared error: 0.208694\n"
     ]
    }
   ],
   "source": [
    "linreg = np.linalg.lstsq(dataX, dataY)[0]\n",
    "print(linreg)\n",
    "\n",
    "bias = np.array([])\n",
    "\n",
    "print(\"Mean squared error: %f\"\n",
    "      % np.mean((np.dot(dataX, linreg) - dataY) ** 2))"
   ]
  },
  {
   "cell_type": "code",
   "execution_count": null,
   "metadata": {
    "collapsed": true
   },
   "outputs": [],
   "source": []
  },
  {
   "cell_type": "code",
   "execution_count": null,
   "metadata": {
    "collapsed": true
   },
   "outputs": [],
   "source": []
  }
 ],
 "metadata": {
  "kernelspec": {
   "display_name": "Python 3",
   "language": "python",
   "name": "python3"
  },
  "language_info": {
   "codemirror_mode": {
    "name": "ipython",
    "version": 3
   },
   "file_extension": ".py",
   "mimetype": "text/x-python",
   "name": "python",
   "nbconvert_exporter": "python",
   "pygments_lexer": "ipython3",
   "version": "3.4.5"
  }
 },
 "nbformat": 4,
 "nbformat_minor": 1
}
