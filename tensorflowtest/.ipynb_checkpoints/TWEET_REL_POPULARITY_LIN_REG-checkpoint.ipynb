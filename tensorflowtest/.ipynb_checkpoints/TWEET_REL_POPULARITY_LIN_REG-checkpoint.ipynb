{
 "cells": [
  {
   "cell_type": "code",
   "execution_count": 62,
   "metadata": {
    "collapsed": false
   },
   "outputs": [],
   "source": [
    "import numpy as np\n",
    "\n",
    "from sklearn import datasets, linear_model\n",
    "\n",
    "from random import shuffle"
   ]
  },
  {
   "cell_type": "code",
   "execution_count": 30,
   "metadata": {
    "collapsed": true
   },
   "outputs": [],
   "source": [
    "def quoteCustomSplit(text):\n",
    "    firstIndex, secondIndex = -1,-1\n",
    "    for i in range(len(text)):\n",
    "        c_i = text[i]\n",
    "        c_l = text[i-1] if i > 0 else None\n",
    "        c_r = text[i+1] if i < len(text) - 1 else None\n",
    "        if c_i == '\"' and c_l != \"\\\\\" and firstIndex == -1:\n",
    "            firstIndex = i\n",
    "        elif c_i == '\"' and c_r == ',' and firstIndex != -1:\n",
    "            secondIndex = i\n",
    "            newText = text[0:firstIndex] + text[firstIndex:secondIndex].replace(\",\", \"\") + text[secondIndex:]\n",
    "    return newText.split(\",\")\n",
    "  \n",
    "def readTwitterData(fname):\n",
    "    parsedX = []\n",
    "    parsedY = []\n",
    "    \n",
    "    with open(fname) as f:\n",
    "        content = f.readlines()\n",
    "    content = [x.strip() for x in content] \n",
    "    contentParsed = [text for text in content if len(text) > 0]\n",
    "\n",
    "    for line in contentParsed:\n",
    "        data = quoteCustomSplit(line)\n",
    "        label = float(data[len(data) - 1])\n",
    "        parsedY.append(label)\n",
    "\n",
    "        newPoint = [float(x) for x in data[2:(len(data) - 4)]]\n",
    "\n",
    "        if data[1] == \"N\": newPoint = [1,0,0,0,0] + newPoint\n",
    "        if data[1] == \"A\": newPoint = [0,1,0,0,0] + newPoint\n",
    "        if data[1] == \"S\": newPoint = [0,0,1,0,0] + newPoint\n",
    "        if data[1] == \"H\": newPoint = [0,0,0,1,0] + newPoint\n",
    "        if data[1] == \"F\": newPoint = [0,0,0,0,1] + newPoint\n",
    "\n",
    "        if data[0] == \"S\": newPoint = [1,0,0,0] + newPoint\n",
    "        if data[0] == \"C\": newPoint = [0,1,0,0] + newPoint\n",
    "        if data[0] == \"P\": newPoint = [0,0,1,0] + newPoint\n",
    "        if data[0] == \"T\": newPoint = [0,0,0,1] + newPoint\n",
    "\n",
    "        parsedX.append(newPoint)\n",
    "\n",
    "    f.close()\n",
    "\n",
    "    return parsedX, parsedY\n",
    "  \n",
    "def linRegTrainTest(dataX, dataLabels, validationPercent):\n",
    "    assert len(dataX) == len(dataLabels)\n",
    "    assert len(dataLabels) > 0\n",
    "\n",
    "    dimensionWeight = len(dataX[0])\n",
    "\n",
    "    allIndices = [i for i in range(len(dataX))]\n",
    "    shuffle(allIndices)\n",
    "\n",
    "    numValidation = int(validationPercent * len(dataX))\n",
    "\n",
    "    validationX = np.array(dataX[0:numValidation])\n",
    "    validationY = np.array(dataLabels[0:numValidation])\n",
    "\n",
    "    trainX = np.array(dataX[numValidation:])\n",
    "    trainY = np.array(dataLabels[numValidation:])\n",
    "\n",
    "    #print(trainY)\n",
    "    \n",
    "    # Create linear regression object\n",
    "    regr = linear_model.LinearRegression()\n",
    "\n",
    "    # Train the model using the training sets\n",
    "    regr.fit(trainX, trainY)\n",
    "\n",
    "    # The coefficients\n",
    "    print('Coefficients: \\n', regr.coef_)\n",
    "    # The mean squared error\n",
    "    print(\"Mean squared error: %.2f\"\n",
    "        % np.mean((regr.predict(validationX) - validationY) ** 2))\n",
    "    # Explained variance score: 1 is perfect prediction\n",
    "    print('Variance score: %.2f' % regr.score(validationX, validationY))"
   ]
  },
  {
   "cell_type": "code",
   "execution_count": 16,
   "metadata": {
    "collapsed": false
   },
   "outputs": [
    {
     "name": "stdout",
     "output_type": "stream",
     "text": [
      "['P', 'N', '0', '0', '0', '0', '0', '1', '0', '0', '0', '0', '0', '0', '1', '0', '0', '0', '2.0569048', '4.264416', 'SNLFinale', '\"America I hear you. \\n\\nTune in TONIGHT for our season finale of @nbcsnl for suprises and big laughs. \\n#SNLFinale https://t.co/VZl2P96eH7\"', 'America I hear you in TONIGHT for our season finale of nbcsnl for suprises and big laughs nSNLFinale ', '0.1775814']\n"
     ]
    }
   ],
   "source": [
    "#res = quoteCustomSplit('A,long,list,\"of,things,to talk\",continued')\n",
    "res = quoteCustomSplit('P,N,0,0,0,0,0,1,0,0,0,0,0,0,1,0,0,0,2.0569048,4.264416,SNLFinale,\"America, I hear you. \\n\\nTune in TONIGHT for our season finale of @nbcsnl for suprises and big laughs. \\n#SNLFinale https://t.co/VZl2P96eH7\",America I hear you in TONIGHT for our season finale of nbcsnl for suprises and big laughs nSNLFinale ,0.1775814')\n",
    "print(res)"
   ]
  },
  {
   "cell_type": "code",
   "execution_count": 69,
   "metadata": {
    "collapsed": false
   },
   "outputs": [
    {
     "name": "stdout",
     "output_type": "stream",
     "text": [
      "Coefficients: \n",
      " [ 0.99560497 -0.74045604 -0.25514894  0.         -0.63395127  0.80370727\n",
      " -0.5506715   0.22659724  0.15431825  0.80585523 -0.63665644 -0.76295578\n",
      "  0.11181952  0.30564136  0.17629612 -0.44130127 -1.8392484   2.37270841\n",
      " -0.          0.33978694 -1.06911912  0.63717344 -0.12960779 -0.17882843\n",
      " -0.18875534 -0.03143996 -2.84858945]\n",
      "Mean squared error: 14.761298\n",
      "Variance score: 0.178964\n"
     ]
    }
   ],
   "source": [
    "dataX, dataY = readTwitterData(\"vectorized_tweets.txt\")\n",
    "\n",
    "dataX = np.array(dataX)\n",
    "dataY = np.array(dataY)\n",
    "\n",
    "bestX, bestY = None, None\n",
    "\n",
    "regr = linear_model.LinearRegression()\n",
    "regr.fit(dataX, dataY)\n",
    "\n",
    "np.set_printoptions(suppress=True)\n",
    "\n",
    "columns = [\"Topic: Sports\", \"Topic: Culture\", \"Topic: Politics\", \"Topic: Twitter/Misc.\",\n",
    "          \"Emotion: Neutral\", \"Emotion: Angry\", \"Emotion: Sad\", \"Emotion: Happy/Hopeful\", \"Emotion: Funny/Satirical\",\n",
    "          \"TIME2_6\",\"TIME6_10\",\"TIME10_14\",\"TIME14_18\",\"TIME18_22\",\"TIME22_2\",\n",
    "          \"DATE_SUN\",\"DATE_MON\",\"DATE_TUE\",\"DATE_WED\",\"DATE_THU\",\"DATE_FRI\",\"DATE_SAT\",\n",
    "          \"PHOTO\",\"VIDEO\",\"ANIMATED_GIF\",\n",
    "          \"LOG10_USER_FAV\",\"LOG10_USER_STATUS_COUNT\",\n",
    "          \"TOPIC\",\"TEXT\",\"SANITIZED_TEXT\",\n",
    "          \"SCORE\"]\n",
    "\n",
    "# The coefficients\n",
    "print('Coefficients: \\n')\n",
    "\n",
    "for i in range(len(columns)):\n",
    "    print(columns[i] + \" -> \" + str(regr.coef_[i]))\n",
    "\n",
    "# The mean squared error\n",
    "print(\"Mean squared error: %f\"\n",
    "      % np.mean((regr.predict(dataX) - dataY) ** 2))\n",
    "# Explained variance score: 1 is perfect prediction\n",
    "print('Variance score: %f' % regr.score(dataX, dataY))\n",
    "\n",
    "\n",
    "#clf = SVC()\n",
    "#clf.fit(dataX, dataY)\n",
    "#acc = clf.score(dataX, dataY)\n",
    "#print(acc)"
   ]
  },
  {
   "cell_type": "code",
   "execution_count": null,
   "metadata": {
    "collapsed": true
   },
   "outputs": [],
   "source": []
  }
 ],
 "metadata": {
  "kernelspec": {
   "display_name": "Python 3",
   "language": "python",
   "name": "python3"
  },
  "language_info": {
   "codemirror_mode": {
    "name": "ipython",
    "version": 3
   },
   "file_extension": ".py",
   "mimetype": "text/x-python",
   "name": "python",
   "nbconvert_exporter": "python",
   "pygments_lexer": "ipython3",
   "version": "3.4.5"
  }
 },
 "nbformat": 4,
 "nbformat_minor": 1
}
