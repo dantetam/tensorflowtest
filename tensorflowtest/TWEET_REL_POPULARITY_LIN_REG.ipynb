{
 "cells": [
  {
   "cell_type": "code",
   "execution_count": 62,
   "metadata": {
    "collapsed": false
   },
   "outputs": [],
   "source": [
    "import numpy as np\n",
    "\n",
    "from sklearn import datasets, linear_model\n",
    "\n",
    "from random import shuffle"
   ]
  },
  {
   "cell_type": "code",
   "execution_count": 30,
   "metadata": {
    "collapsed": true
   },
   "outputs": [],
   "source": [
    "def quoteCustomSplit(text):\n",
    "    firstIndex, secondIndex = -1,-1\n",
    "    for i in range(len(text)):\n",
    "        c_i = text[i]\n",
    "        c_l = text[i-1] if i > 0 else None\n",
    "        c_r = text[i+1] if i < len(text) - 1 else None\n",
    "        if c_i == '\"' and c_l != \"\\\\\" and firstIndex == -1:\n",
    "            firstIndex = i\n",
    "        elif c_i == '\"' and c_r == ',' and firstIndex != -1:\n",
    "            secondIndex = i\n",
    "            newText = text[0:firstIndex] + text[firstIndex:secondIndex].replace(\",\", \"\") + text[secondIndex:]\n",
    "    return newText.split(\",\")\n",
    "  \n",
    "def readTwitterData(fname):\n",
    "    parsedX = []\n",
    "    parsedY = []\n",
    "    \n",
    "    with open(fname) as f:\n",
    "        content = f.readlines()\n",
    "    content = [x.strip() for x in content] \n",
    "    contentParsed = [text for text in content if len(text) > 0]\n",
    "\n",
    "    for line in contentParsed:\n",
    "        data = quoteCustomSplit(line)\n",
    "        label = float(data[len(data) - 1])\n",
    "        parsedY.append(label)\n",
    "\n",
    "        newPoint = [float(x) for x in data[2:(len(data) - 4)]]\n",
    "\n",
    "        if data[1] == \"N\": newPoint = [1,0,0,0,0] + newPoint\n",
    "        if data[1] == \"A\": newPoint = [0,1,0,0,0] + newPoint\n",
    "        if data[1] == \"S\": newPoint = [0,0,1,0,0] + newPoint\n",
    "        if data[1] == \"H\": newPoint = [0,0,0,1,0] + newPoint\n",
    "        if data[1] == \"F\": newPoint = [0,0,0,0,1] + newPoint\n",
    "\n",
    "        if data[0] == \"S\": newPoint = [1,0,0,0] + newPoint\n",
    "        if data[0] == \"C\": newPoint = [0,1,0,0] + newPoint\n",
    "        if data[0] == \"P\": newPoint = [0,0,1,0] + newPoint\n",
    "        if data[0] == \"T\": newPoint = [0,0,0,1] + newPoint\n",
    "\n",
    "        parsedX.append(newPoint)\n",
    "\n",
    "    f.close()\n",
    "\n",
    "    return parsedX, parsedY\n",
    "  \n",
    "def linRegTrainTest(dataX, dataLabels, validationPercent):\n",
    "    assert len(dataX) == len(dataLabels)\n",
    "    assert len(dataLabels) > 0\n",
    "\n",
    "    dimensionWeight = len(dataX[0])\n",
    "\n",
    "    allIndices = [i for i in range(len(dataX))]\n",
    "    shuffle(allIndices)\n",
    "\n",
    "    numValidation = int(validationPercent * len(dataX))\n",
    "\n",
    "    validationX = np.array(dataX[0:numValidation])\n",
    "    validationY = np.array(dataLabels[0:numValidation])\n",
    "\n",
    "    trainX = np.array(dataX[numValidation:])\n",
    "    trainY = np.array(dataLabels[numValidation:])\n",
    "\n",
    "    #print(trainY)\n",
    "    \n",
    "    # Create linear regression object\n",
    "    regr = linear_model.LinearRegression()\n",
    "\n",
    "    # Train the model using the training sets\n",
    "    regr.fit(trainX, trainY)\n",
    "\n",
    "    # The coefficients\n",
    "    print('Coefficients: \\n', regr.coef_)\n",
    "    # The mean squared error\n",
    "    print(\"Mean squared error: %.2f\"\n",
    "        % np.mean((regr.predict(validationX) - validationY) ** 2))\n",
    "    # Explained variance score: 1 is perfect prediction\n",
    "    print('Variance score: %.2f' % regr.score(validationX, validationY))"
   ]
  },
  {
   "cell_type": "code",
   "execution_count": 16,
   "metadata": {
    "collapsed": false
   },
   "outputs": [
    {
     "name": "stdout",
     "output_type": "stream",
     "text": [
      "['P', 'N', '0', '0', '0', '0', '0', '1', '0', '0', '0', '0', '0', '0', '1', '0', '0', '0', '2.0569048', '4.264416', 'SNLFinale', '\"America I hear you. \\n\\nTune in TONIGHT for our season finale of @nbcsnl for suprises and big laughs. \\n#SNLFinale https://t.co/VZl2P96eH7\"', 'America I hear you in TONIGHT for our season finale of nbcsnl for suprises and big laughs nSNLFinale ', '0.1775814']\n"
     ]
    }
   ],
   "source": [
    "#res = quoteCustomSplit('A,long,list,\"of,things,to talk\",continued')\n",
    "res = quoteCustomSplit('P,N,0,0,0,0,0,1,0,0,0,0,0,0,1,0,0,0,2.0569048,4.264416,SNLFinale,\"America, I hear you. \\n\\nTune in TONIGHT for our season finale of @nbcsnl for suprises and big laughs. \\n#SNLFinale https://t.co/VZl2P96eH7\",America I hear you in TONIGHT for our season finale of nbcsnl for suprises and big laughs nSNLFinale ,0.1775814')\n",
    "print(res)"
   ]
  },
  {
   "cell_type": "code",
   "execution_count": 70,
   "metadata": {
    "collapsed": false
   },
   "outputs": [
    {
     "name": "stdout",
     "output_type": "stream",
     "text": [
      "Coefficients: \n",
      "\n",
      "Topic: Sports -> 0.995604974238\n",
      "Topic: Culture -> -0.74045603834\n",
      "Topic: Politics -> -0.255148935898\n",
      "Topic: Twitter/Misc. -> 1.33226762955e-15\n",
      "Emotion: Neutral -> -0.633951266583\n",
      "Emotion: Angry -> 0.803707274451\n",
      "Emotion: Sad -> -0.550671495721\n",
      "Emotion: Happy/Hopeful -> 0.226597240693\n",
      "Emotion: Funny/Satirical -> 0.15431824716\n",
      "TIME2_6 -> 0.805855234921\n",
      "TIME6_10 -> -0.636656441824\n",
      "TIME10_14 -> -0.762955782533\n",
      "TIME14_18 -> 0.111819516538\n",
      "TIME18_22 -> 0.30564135706\n",
      "TIME22_2 -> 0.176296115838\n",
      "DATE_SUN -> -0.441301269962\n",
      "DATE_MON -> -1.8392484026\n",
      "DATE_TUE -> 2.37270841285\n",
      "DATE_WED -> -1.66533453694e-16\n",
      "DATE_THU -> 0.339786939176\n",
      "DATE_FRI -> -1.06911912022\n",
      "DATE_SAT -> 0.637173440766\n",
      "PHOTO -> -0.129607791382\n",
      "VIDEO -> -0.178828430825\n",
      "ANIMATED_GIF -> -0.188755340249\n",
      "LOG10_USER_FAV -> -0.0314399615159\n",
      "LOG10_USER_STATUS_COUNT -> -2.84858945355\n"
     ]
    },
    {
     "ename": "IndexError",
     "evalue": "index 27 is out of bounds for axis 0 with size 27",
     "output_type": "error",
     "traceback": [
      "\u001b[0;31m---------------------------------------------------------------------------\u001b[0m",
      "\u001b[0;31mIndexError\u001b[0m                                Traceback (most recent call last)",
      "\u001b[0;32m<ipython-input-70-50d65825676f>\u001b[0m in \u001b[0;36m<module>\u001b[0;34m()\u001b[0m\n\u001b[1;32m     24\u001b[0m \u001b[1;33m\u001b[0m\u001b[0m\n\u001b[1;32m     25\u001b[0m \u001b[1;32mfor\u001b[0m \u001b[0mi\u001b[0m \u001b[1;32min\u001b[0m \u001b[0mrange\u001b[0m\u001b[1;33m(\u001b[0m\u001b[0mlen\u001b[0m\u001b[1;33m(\u001b[0m\u001b[0mcolumns\u001b[0m\u001b[1;33m)\u001b[0m\u001b[1;33m)\u001b[0m\u001b[1;33m:\u001b[0m\u001b[1;33m\u001b[0m\u001b[0m\n\u001b[0;32m---> 26\u001b[0;31m     \u001b[0mprint\u001b[0m\u001b[1;33m(\u001b[0m\u001b[0mcolumns\u001b[0m\u001b[1;33m[\u001b[0m\u001b[0mi\u001b[0m\u001b[1;33m]\u001b[0m \u001b[1;33m+\u001b[0m \u001b[1;34m\" -> \"\u001b[0m \u001b[1;33m+\u001b[0m \u001b[0mstr\u001b[0m\u001b[1;33m(\u001b[0m\u001b[0mregr\u001b[0m\u001b[1;33m.\u001b[0m\u001b[0mcoef_\u001b[0m\u001b[1;33m[\u001b[0m\u001b[0mi\u001b[0m\u001b[1;33m]\u001b[0m\u001b[1;33m)\u001b[0m\u001b[1;33m)\u001b[0m\u001b[1;33m\u001b[0m\u001b[0m\n\u001b[0m\u001b[1;32m     27\u001b[0m \u001b[1;33m\u001b[0m\u001b[0m\n\u001b[1;32m     28\u001b[0m \u001b[1;31m# The mean squared error\u001b[0m\u001b[1;33m\u001b[0m\u001b[1;33m\u001b[0m\u001b[0m\n",
      "\u001b[0;31mIndexError\u001b[0m: index 27 is out of bounds for axis 0 with size 27"
     ]
    }
   ],
   "source": [
    "dataX, dataY = readTwitterData(\"vectorized_tweets.txt\")\n",
    "\n",
    "dataX = np.array(dataX)\n",
    "dataY = np.array(dataY)\n",
    "\n",
    "bestX, bestY = None, None\n",
    "\n",
    "regr = linear_model.LinearRegression()\n",
    "regr.fit(dataX, dataY)\n",
    "\n",
    "np.set_printoptions(suppress=True)\n",
    "\n",
    "columns = [\"Topic: Sports\", \"Topic: Culture\", \"Topic: Politics\", \"Topic: Twitter/Misc.\",\n",
    "          \"Emotion: Neutral\", \"Emotion: Angry\", \"Emotion: Sad\", \"Emotion: Happy/Hopeful\", \"Emotion: Funny/Satirical\",\n",
    "          \"TIME2_6\",\"TIME6_10\",\"TIME10_14\",\"TIME14_18\",\"TIME18_22\",\"TIME22_2\",\n",
    "          \"DATE_SUN\",\"DATE_MON\",\"DATE_TUE\",\"DATE_WED\",\"DATE_THU\",\"DATE_FRI\",\"DATE_SAT\",\n",
    "          \"PHOTO\",\"VIDEO\",\"ANIMATED_GIF\",\n",
    "          \"LOG10_USER_FAV\",\"LOG10_USER_STATUS_COUNT\",\n",
    "          \"TOPIC\",\"TEXT\",\"SANITIZED_TEXT\",\n",
    "          \"SCORE\"]\n",
    "\n",
    "# The coefficients\n",
    "print('Coefficients: \\n')\n",
    "\n",
    "for i in range(len(columns)):\n",
    "    print(columns[i] + \" -> \" + str(regr.coef_[i]))\n",
    "\n",
    "# The mean squared error\n",
    "print(\"Mean squared error: %f\"\n",
    "      % np.mean((regr.predict(dataX) - dataY) ** 2))\n",
    "# Explained variance score: 1 is perfect prediction\n",
    "print('Variance score: %f' % regr.score(dataX, dataY))\n",
    "\n",
    "\n",
    "#clf = SVC()\n",
    "#clf.fit(dataX, dataY)\n",
    "#acc = clf.score(dataX, dataY)\n",
    "#print(acc)"
   ]
  },
  {
   "cell_type": "code",
   "execution_count": null,
   "metadata": {
    "collapsed": true
   },
   "outputs": [],
   "source": []
  }
 ],
 "metadata": {
  "kernelspec": {
   "display_name": "Python 3",
   "language": "python",
   "name": "python3"
  },
  "language_info": {
   "codemirror_mode": {
    "name": "ipython",
    "version": 3
   },
   "file_extension": ".py",
   "mimetype": "text/x-python",
   "name": "python",
   "nbconvert_exporter": "python",
   "pygments_lexer": "ipython3",
   "version": "3.4.5"
  }
 },
 "nbformat": 4,
 "nbformat_minor": 1
}
