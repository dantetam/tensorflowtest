{
 "cells": [
  {
   "cell_type": "code",
   "execution_count": 1,
   "metadata": {
    "collapsed": true
   },
   "outputs": [],
   "source": [
    "import math\n",
    "import random\n",
    "import numpy as np\n",
    "import scipy\n",
    "import scipy.io\n",
    "import matplotlib.pyplot as plt\n",
    "%matplotlib inline "
   ]
  },
  {
   "cell_type": "code",
   "execution_count": 2,
   "metadata": {
    "collapsed": false
   },
   "outputs": [],
   "source": [
    "mnist = scipy.io.loadmat(\"./mnist_data/images.mat\")\n",
    "\n",
    "#print(mnist)\n",
    "\n",
    "mnist_data = mnist[\"images\"].reshape((784, 60000))\n",
    "\n",
    "def visualize(data):\n",
    "    fig = plt.figure(figsize=(6, 3.2))\n",
    "\n",
    "    ax = fig.add_subplot(111)\n",
    "    ax.set_title('colorMap')\n",
    "    plt.imshow(data.reshape((28,28)))\n",
    "\n",
    "    cax = fig.add_axes([0.12, 0.1, 0.78, 0.8])\n",
    "    cax.get_xaxis().set_visible(False)\n",
    "    cax.get_yaxis().set_visible(False)\n",
    "    cax.patch.set_alpha(0)\n",
    "    cax.set_frame_on(False)\n",
    "    plt.colorbar(orientation='vertical')\n",
    "    plt.show()\n",
    "    \n",
    "#visualize(mnist_data[50000])\n",
    "#visualize(mnist_data[50001])\n",
    "#visualize(mnist_data[30001])"
   ]
  },
  {
   "cell_type": "code",
   "execution_count": 14,
   "metadata": {
    "collapsed": false
   },
   "outputs": [
    {
     "name": "stdout",
     "output_type": "stream",
     "text": [
      "(1, 2)\n",
      "[[1 2]\n",
      " [1 2]\n",
      " [1 2]\n",
      " ..., \n",
      " [1 2]\n",
      " [1 2]\n",
      " [1 2]]\n",
      "(4, 3)\n",
      "(3,)\n",
      "[[-3  0 -3]\n",
      " [ 0  3  0]\n",
      " [ 3  6  3]\n",
      " [ 6  9  6]]\n"
     ]
    }
   ],
   "source": [
    "x = np.array([[1,2]])\n",
    "print(x.shape)\n",
    "y = np.repeat(x, [784], axis=0)\n",
    "print(y)\n",
    "\n",
    "w = np.array([[0, 0, 0],\n",
    "       [3, 3, 3],\n",
    "       [6, 6, 6],\n",
    "       [9, 9, 9]])\n",
    "z = np.array([3, 0, 3])\n",
    "print(w.shape)\n",
    "print(z.shape)\n",
    "print(w - z)"
   ]
  },
  {
   "cell_type": "code",
   "execution_count": 15,
   "metadata": {
    "collapsed": false,
    "scrolled": true
   },
   "outputs": [
    {
     "ename": "KeyboardInterrupt",
     "evalue": "",
     "output_type": "error",
     "traceback": [
      "\u001b[0;31m---------------------------------------------------------------------------\u001b[0m",
      "\u001b[0;31mKeyboardInterrupt\u001b[0m                         Traceback (most recent call last)",
      "\u001b[0;32m<ipython-input-15-f027d184485a>\u001b[0m in \u001b[0;36m<module>\u001b[0;34m()\u001b[0m\n\u001b[1;32m     23\u001b[0m         \u001b[0mdist\u001b[0m \u001b[1;33m=\u001b[0m \u001b[0mnp\u001b[0m\u001b[1;33m.\u001b[0m\u001b[0mdot\u001b[0m\u001b[1;33m(\u001b[0m\u001b[0mnp\u001b[0m\u001b[1;33m.\u001b[0m\u001b[0mtranspose\u001b[0m\u001b[1;33m(\u001b[0m\u001b[0msignedDist\u001b[0m\u001b[1;33m)\u001b[0m\u001b[1;33m,\u001b[0m \u001b[0msignedDist\u001b[0m\u001b[1;33m)\u001b[0m\u001b[1;33m\u001b[0m\u001b[0m\n\u001b[1;32m     24\u001b[0m \u001b[1;33m\u001b[0m\u001b[0m\n\u001b[0;32m---> 25\u001b[0;31m \u001b[0mkMeans\u001b[0m\u001b[1;33m(\u001b[0m\u001b[0mmnist_data\u001b[0m\u001b[1;33m,\u001b[0m \u001b[1;36m5\u001b[0m\u001b[1;33m)\u001b[0m\u001b[1;33m\u001b[0m\u001b[0m\n\u001b[0m",
      "\u001b[0;32m<ipython-input-15-f027d184485a>\u001b[0m in \u001b[0;36mkMeans\u001b[0;34m(data, k)\u001b[0m\n\u001b[1;32m     21\u001b[0m         \u001b[1;31m#signedDist = np.subtract(data, stackedMeans)\u001b[0m\u001b[1;33m\u001b[0m\u001b[1;33m\u001b[0m\u001b[0m\n\u001b[1;32m     22\u001b[0m         \u001b[0msignedDist\u001b[0m \u001b[1;33m=\u001b[0m \u001b[0mdataT\u001b[0m \u001b[1;33m-\u001b[0m \u001b[0mmean\u001b[0m\u001b[1;33m\u001b[0m\u001b[0m\n\u001b[0;32m---> 23\u001b[0;31m         \u001b[0mdist\u001b[0m \u001b[1;33m=\u001b[0m \u001b[0mnp\u001b[0m\u001b[1;33m.\u001b[0m\u001b[0mdot\u001b[0m\u001b[1;33m(\u001b[0m\u001b[0mnp\u001b[0m\u001b[1;33m.\u001b[0m\u001b[0mtranspose\u001b[0m\u001b[1;33m(\u001b[0m\u001b[0msignedDist\u001b[0m\u001b[1;33m)\u001b[0m\u001b[1;33m,\u001b[0m \u001b[0msignedDist\u001b[0m\u001b[1;33m)\u001b[0m\u001b[1;33m\u001b[0m\u001b[0m\n\u001b[0m\u001b[1;32m     24\u001b[0m \u001b[1;33m\u001b[0m\u001b[0m\n\u001b[1;32m     25\u001b[0m \u001b[0mkMeans\u001b[0m\u001b[1;33m(\u001b[0m\u001b[0mmnist_data\u001b[0m\u001b[1;33m,\u001b[0m \u001b[1;36m5\u001b[0m\u001b[1;33m)\u001b[0m\u001b[1;33m\u001b[0m\u001b[0m\n",
      "\u001b[0;31mKeyboardInterrupt\u001b[0m: "
     ]
    }
   ],
   "source": [
    "def kMeans(data, k = 5):\n",
    "    #Initialize k number of means as k random points in the data\n",
    "    means = []\n",
    "    usedIndices = []\n",
    "    dataT = np.transpose(data)\n",
    "    for _ in range(k):\n",
    "        while True:\n",
    "            index = int(random.random() * len(data))\n",
    "            if index not in usedIndices:\n",
    "                usedIndices.append(index)\n",
    "                #mean = np.array([data[index]])\n",
    "                means.append(dataT[index])\n",
    "                break\n",
    "    \n",
    "    #Assign points to various means\n",
    "    #First, for every mean, stack the mean vertically\n",
    "    for mean in means:\n",
    "        #print(dataT.shape)\n",
    "        #print(mean.shape)\n",
    "        #stackedMeans = np.repeat(mean, [60000], axis=0)\n",
    "        #signedDist = np.subtract(data, stackedMeans)\n",
    "        signedDist = dataT - mean\n",
    "        dist = np.dot(np.transpose(signedDist), signedDist)\n",
    "    \n",
    "kMeans(mnist_data, 5)"
   ]
  },
  {
   "cell_type": "code",
   "execution_count": null,
   "metadata": {
    "collapsed": true
   },
   "outputs": [],
   "source": []
  }
 ],
 "metadata": {
  "kernelspec": {
   "display_name": "Python 3",
   "language": "python",
   "name": "python3"
  },
  "language_info": {
   "codemirror_mode": {
    "name": "ipython",
    "version": 3
   },
   "file_extension": ".py",
   "mimetype": "text/x-python",
   "name": "python",
   "nbconvert_exporter": "python",
   "pygments_lexer": "ipython3",
   "version": "3.4.5"
  }
 },
 "nbformat": 4,
 "nbformat_minor": 1
}
