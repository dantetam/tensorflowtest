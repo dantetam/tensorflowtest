{
 "cells": [
  {
   "cell_type": "code",
   "execution_count": 2,
   "metadata": {},
   "outputs": [
    {
     "data": {
      "text/plain": [
       "b'\"Apple Inc.\",145.60,145.50\\n\"Alphabet Inc.\",930.98,929.02\\n\"Microsoft Corporation\",70.08,70.01\\n'"
      ]
     },
     "execution_count": 2,
     "metadata": {},
     "output_type": "execute_result"
    }
   ],
   "source": [
    "import urllib.request\n",
    "urllib.request.urlopen(\"http://finance.yahoo.com/d/quotes.csv?s=AAPL+GOOG+MSFT&f=nab\").read()"
   ]
  },
  {
   "cell_type": "code",
   "execution_count": 15,
   "metadata": {},
   "outputs": [
    {
     "name": "stdout",
     "output_type": "stream",
     "text": [
      "                       0       1       2       3       4\n",
      "0             Apple Inc.  144.73  145.06  144.38  145.85\n",
      "1          Alphabet Inc.  929.54  928.80  922.00  931.43\n",
      "2  Microsoft Corporation   70.00   69.98   69.75   70.68\n"
     ]
    }
   ],
   "source": [
    "import pandas as pd\n",
    "\n",
    "url=\"http://finance.yahoo.com/d/quotes.csv?s=AAPL+GOOG+MSFT&f=nopgh\"\n",
    "financeData = pd.read_csv(url, header=None)\n",
    "financeData.columns = ['Name', 'Open', 'Previous Close', 'Day Low', 'Day High']\n",
    "\n",
    "print(financeData)"
   ]
  },
  {
   "cell_type": "code",
   "execution_count": null,
   "metadata": {
    "collapsed": true
   },
   "outputs": [],
   "source": []
  }
 ],
 "metadata": {
  "kernelspec": {
   "display_name": "Python 3",
   "language": "python",
   "name": "python3"
  },
  "language_info": {
   "codemirror_mode": {
    "name": "ipython",
    "version": 3
   },
   "file_extension": ".py",
   "mimetype": "text/x-python",
   "name": "python",
   "nbconvert_exporter": "python",
   "pygments_lexer": "ipython3",
   "version": "3.5.3"
  }
 },
 "nbformat": 4,
 "nbformat_minor": 2
}
