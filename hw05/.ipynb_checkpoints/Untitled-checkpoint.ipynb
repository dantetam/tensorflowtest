{
 "cells": [
  {
   "cell_type": "code",
   "execution_count": 38,
   "metadata": {
    "collapsed": false
   },
   "outputs": [
    {
     "name": "stdout",
     "output_type": "stream",
     "text": [
      "{'fnlwgt': '307423', 'marital-status': 'Never-married', 'native-country': 'United-States', 'capital-gain': '0', 'education-num': '5', 'sex': 'Male', 'age': '59', 'label': '0', 'hours-per-week': '50', 'race': 'Black', 'capital-loss': '0', 'education': '9th', 'occupation': 'Other-service', 'workclass': 'Private', 'relationship': 'Not-in-family'}\n"
     ]
    }
   ],
   "source": [
    "import numpy as np\n",
    "import scipy\n",
    "import scipy.io\n",
    "import csv\n",
    "import sklearn\n",
    "import sklearn.feature_extraction\n",
    "\n",
    "spam = scipy.io.loadmat(\"./dist/spam_data.mat\")\n",
    "census_train = csv.DictReader(open(\"./census_training_data.csv\"))\n",
    "census_test = csv.DictReader(open(\"./census_test_data.csv\"))\n",
    "titanic_train = csv.DictReader(open(\"./titanic_training_data.csv\"))\n",
    "titanic_test = csv.DictReader(open(\"./titanic_testing_data.csv\"))\n",
    "\n",
    "firstTest = None\n",
    "for row in census_train:\n",
    "    print(row)\n",
    "    firstTest = row\n",
    "    break"
   ]
  },
  {
   "cell_type": "code",
   "execution_count": 45,
   "metadata": {
    "collapsed": false
   },
   "outputs": [],
   "source": [
    "\n",
    "vec = sklearn.feature_extraction.DictVectorizer()\n",
    "#X = vec.fit_transform(census_train)\n"
   ]
  },
  {
   "cell_type": "code",
   "execution_count": 47,
   "metadata": {
    "collapsed": true
   },
   "outputs": [],
   "source": [
    "class Node:\n",
    "    def __init__():\n",
    "        self.split_rule = (None, 0)\n",
    "        self.left = None\n",
    "        self.right = None\n",
    "        self.label = None"
   ]
  },
  {
   "cell_type": "code",
   "execution_count": 48,
   "metadata": {
    "collapsed": true
   },
   "outputs": [],
   "source": [
    "# Where left and right are maps from labels -> frequencies\n",
    "def impurity(left, right):\n",
    "    s = len(left)\n",
    "    entropy = 0\n",
    "    for k,v in left.items():\n",
    "        p_c = v / s \n",
    "        entropy += p_c * np.log(p_c)\n",
    "    return entropy"
   ]
  },
  {
   "cell_type": "code",
   "execution_count": 49,
   "metadata": {
    "collapsed": true
   },
   "outputs": [],
   "source": [
    "def segmenter(data, labels):\n",
    "    uniqueLabels = set(labels)\n",
    "    maxLabelIndex = -1\n",
    "    for label in uniqueLabels:\n",
    "        left = dict()\n",
    "        right = dict()\n",
    "        for dataIndex in range(len(data)):\n",
    "            "
   ]
  },
  {
   "cell_type": "code",
   "execution_count": null,
   "metadata": {
    "collapsed": true
   },
   "outputs": [],
   "source": []
  }
 ],
 "metadata": {
  "kernelspec": {
   "display_name": "Python 3",
   "language": "python",
   "name": "python3"
  },
  "language_info": {
   "codemirror_mode": {
    "name": "ipython",
    "version": 3
   },
   "file_extension": ".py",
   "mimetype": "text/x-python",
   "name": "python",
   "nbconvert_exporter": "python",
   "pygments_lexer": "ipython3",
   "version": "3.4.5"
  }
 },
 "nbformat": 4,
 "nbformat_minor": 1
}
