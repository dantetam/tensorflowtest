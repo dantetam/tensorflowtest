{
 "cells": [
  {
   "cell_type": "markdown",
   "metadata": {},
   "source": [
    "## 1. Shuffle Data"
   ]
  },
  {
   "cell_type": "code",
   "execution_count": 1,
   "metadata": {
    "collapsed": false
   },
   "outputs": [
    {
     "name": "stdout",
     "output_type": "stream",
     "text": [
      "{'trainX': array([[188, 204, 201, ..., 216, 217,   8],\n",
      "       [140, 138, 138, ..., 124, 123,   0],\n",
      "       [136, 135, 132, ...,  75,  73,   5],\n",
      "       ..., \n",
      "       [136, 137, 127, ..., 139, 129,   4],\n",
      "       [178, 179, 181, ..., 104, 103,   9],\n",
      "       [ 20,  21,  27, ...,  28,  26,   0]], dtype=int64), '__globals__': [], '__header__': b'MATLAB 5.0 MAT-file Platform: posix, Created on: Fri Jan 20 17:23:11 2017', '__version__': '1.0'}\n"
     ]
    }
   ],
   "source": [
    "import numpy as np\n",
    "import scipy\n",
    "import scipy.io\n",
    "from random import shuffle\n",
    "\n",
    "mnistTrain = []\n",
    "mnistTrainLabels = []\n",
    "mnistValid = []\n",
    "mnistValidLabels = []\n",
    "\n",
    "spamValid = []\n",
    "spamValidLabels = []\n",
    "spamTrain = []\n",
    "spamTrainLabels = []\n",
    "\n",
    "cifarValid = []\n",
    "cifarValidLabels = []\n",
    "cifarTrain = []\n",
    "cifarTrainLabels = []\n",
    "\n",
    "mnist = scipy.io.loadmat(\"./hw01_data/mnist/train\")\n",
    "np.random.shuffle(mnist[\"trainX\"])\n",
    "#print(mnist[\"testX\"][0])\n",
    "#print(mnist[\"trainX\"][0])\n",
    "\n",
    "numMnistTrain = 5000 # <= 50000\n",
    "\n",
    "numMnistValid = 10000 \n",
    "for i in range(numMnistValid):\n",
    "    mnistValid.append(mnist[\"trainX\"][i][0:-1])\n",
    "    mnistValidLabels.append(mnist[\"trainX\"][i][-1])\n",
    "for i in range(numMnistValid, numMnistValid + numMnistTrain):\n",
    "    mnistTrain.append(mnist[\"trainX\"][i][0:-1])\n",
    "    mnistTrainLabels.append(mnist[\"trainX\"][i][-1])\n",
    "    \n",
    "#----------\n",
    "    \n",
    "spam = scipy.io.loadmat(\"./hw01_data/spam/spam_data\")\n",
    "#print(spam)\n",
    "\n",
    "indices = [i for i in range(len(spam[\"training_data\"]))]\n",
    "shuffle(indices)\n",
    "\n",
    "spamValidLen = int(0.2*len(spam[\"training_data\"]))\n",
    "#np.random.shuffle(spam[\"training_data\"])\n",
    "for i in range(spamValidLen):\n",
    "    spamValid.append(spam[\"training_data\"][indices[i]])\n",
    "    spamValidLabels.append(spam[\"training_labels\"][0][indices[i]])\n",
    "for i in range(len(spam[\"training_data\"])):\n",
    "    spamTrain.append(spam[\"training_data\"][indices[i]])\n",
    "    spamTrainLabels.append(spam[\"training_labels\"][0][indices[i]])\n",
    "#for i in range(spamValidLen):\n",
    "    #del spamValid[i][-1]\n",
    "    \n",
    "#print(spamValid)\n",
    "#print(spamTrainLabels)\n",
    "\n",
    "#----------\n",
    "\n",
    "cifar = scipy.io.loadmat(\"./hw01_data/cifar/train\")\n",
    "np.random.shuffle(cifar[\"trainX\"])\n",
    "print(cifar)\n",
    "\n",
    "numCifarValid = 5000\n",
    "numCifarTrain = 5000\n",
    "for i in range(numCifarValid):\n",
    "    cifarValid.append(cifar[\"trainX\"][i])\n",
    "    cifarValidLabels.append(cifar[\"trainX\"][i][-1])\n",
    "for i in range(numCifarValid, numCifarValid + numCifarTrain):\n",
    "    cifarTrain.append(cifar[\"trainX\"][i])\n",
    "    cifarTrainLabels.append(cifar[\"trainX\"][i][-1])\n",
    "#for i in range(numCifar):\n",
    "    #del cifarValid[i][-1]\n",
    "    \n",
    "#print(cifarValid)\n",
    "#print(cifarTrainLabels)"
   ]
  },
  {
   "cell_type": "code",
   "execution_count": 28,
   "metadata": {
    "collapsed": false
   },
   "outputs": [],
   "source": [
    "from sklearn import svm\n",
    "from sklearn import model_selection\n",
    "\n",
    "import math\n",
    "\n",
    "import warnings\n",
    "warnings.filterwarnings('ignore')\n"
   ]
  },
  {
   "cell_type": "code",
   "execution_count": 3,
   "metadata": {
    "collapsed": false
   },
   "outputs": [
    {
     "name": "stdout",
     "output_type": "stream",
     "text": [
      "Training set size: 100, accuracy: 0.748\n",
      "Training set size: 200, accuracy: 0.8188\n",
      "Training set size: 500, accuracy: 0.8531\n",
      "Training set size: 1000, accuracy: 0.8751\n",
      "Training set size: 2000, accuracy: 0.8926\n",
      "Training set size: 5000, accuracy: 0.9059\n",
      "Training set size: 10000, accuracy: 0.9099\n"
     ]
    }
   ],
   "source": [
    "import warnings\n",
    "warnings.filterwarnings('ignore')\n",
    "\n",
    "trainLens = [100, 200, 500, 1000, 2000, 5000, 10000]\n",
    "\n",
    "for trainLen in trainLens:\n",
    "    clf = svm.SVC(kernel='linear')\n",
    "    clf.fit(mnistTrain[0:trainLen], mnistTrainLabels[0:trainLen]) \n",
    "    success = 0\n",
    "    tries = 0\n",
    "    for i in range(len(mnistValid)):\n",
    "        if ((clf.predict(mnistValid[i]))[0] == mnistValidLabels[i]):\n",
    "            success += 1\n",
    "        tries += 1\n",
    "    print(\"Training set size: \" + str(trainLen) + \", accuracy: \" + str(success/tries))"
   ]
  },
  {
   "cell_type": "code",
   "execution_count": 29,
   "metadata": {
    "collapsed": false
   },
   "outputs": [
    {
     "name": "stdout",
     "output_type": "stream",
     "text": [
      "Training set size: 100, accuracy: 0.7446808510638298\n",
      "Training set size: 200, accuracy: 0.7794970986460348\n",
      "Training set size: 500, accuracy: 0.7920696324951644\n",
      "Training set size: 1000, accuracy: 0.7978723404255319\n",
      "Training set size: 2000, accuracy: 0.8056092843326886\n",
      "Training set size: 4000, accuracy: 0.7959381044487428\n"
     ]
    }
   ],
   "source": [
    "#clf = svm.SVC(kernel='linear')\n",
    "#clf.fit(spamTrain, spamTrainLabels) \n",
    "\n",
    "trainLens = [100, 200, 500, 1000, 2000, 4000]\n",
    "\n",
    "for trainLen in trainLens:\n",
    "    clf = svm.SVC(kernel='linear')\n",
    "    #print(spamTrainLabels)\n",
    "    clf.fit(spamTrain[0:trainLen], spamTrainLabels[0:trainLen]) \n",
    "    success = 0\n",
    "    tries = 0\n",
    "    for i in range(len(spamValid)):\n",
    "        if ((clf.predict(spamValid[i]))[0] == spamValidLabels[i]):\n",
    "            success += 1\n",
    "        tries += 1\n",
    "    print(\"Training set size: \" + str(trainLen) + \", accuracy: \" + str(success/tries)) "
   ]
  },
  {
   "cell_type": "code",
   "execution_count": null,
   "metadata": {
    "collapsed": false,
    "scrolled": true
   },
   "outputs": [],
   "source": [
    "trainLen = 40000\n",
    "clf = svm.SVC(kernel='linear')\n",
    "clf.fit(mnistTrain[0:trainLen], mnistTrainLabels[0:trainLen]) \n",
    "\n",
    "mnistTestSet = scipy.io.loadmat(\"./hw01_data/mnist/test\")[\"testX\"]\n",
    "results = []\n",
    "#print(mnistTestSet)\n",
    "#print(\"Id,Category\")\n",
    "for i in range(len(mnistTestSet)):\n",
    "    #print( clf.predict(mnistTestSet[i]) )\n",
    "    #print(str(i) + \",\" + str(clf.predict(mnistTestSet[i])[0]))\n",
    "    results.append([i, clf.predict(mnistTestSet[i])[0]])\n",
    "temp = np.asarray(results)\n",
    "#temp.tofile(\"./submission.py\")\n",
    "np.savetxt(\"submission.csv\", temp, fmt=\"%i,%i\", delimiter=\",\", header=\"Id,Category\")"
   ]
  },
  {
   "cell_type": "code",
   "execution_count": 16,
   "metadata": {
    "collapsed": false
   },
   "outputs": [],
   "source": [
    "trainLen = len(spamTrain)\n",
    "clf = svm.SVC(kernel='linear')\n",
    "clf.fit(spamTrain[0:trainLen], spamTrainLabels[0:trainLen]) \n",
    "\n",
    "#spamTestSet = scipy.io.loadmat(\"./hw01_data/spam/test\")[\"testX\"]\n",
    "spamTestSet = spam[\"test_data\"]\n",
    "results = []\n",
    "#print(mnistTestSet)\n",
    "#print(\"Id,Category\")\n",
    "for i in range(len(spamTestSet)):\n",
    "    #print( clf.predict(mnistTestSet[i]) )\n",
    "    #print(str(i) + \",\" + str(clf.predict(mnistTestSet[i])[0]))\n",
    "    results.append([i, clf.predict(spamTestSet[i])[0]])\n",
    "temp = np.asarray(results)\n",
    "#temp.tofile(\"./submission.py\")\n",
    "np.savetxt(\"submission_spam.csv\", temp, fmt=\"%i,%i\", delimiter=\",\", header=\"Id,Category\")"
   ]
  },
  {
   "cell_type": "code",
   "execution_count": 5,
   "metadata": {
    "collapsed": false
   },
   "outputs": [
    {
     "name": "stdout",
     "output_type": "stream",
     "text": [
      "Training set size: 100, accuracy: 0.2134\n",
      "Training set size: 200, accuracy: 0.2526\n",
      "Training set size: 500, accuracy: 0.283\n",
      "Training set size: 1000, accuracy: 0.2818\n",
      "Training set size: 2000, accuracy: 0.2954\n",
      "Training set size: 4000, accuracy: 0.2982\n"
     ]
    }
   ],
   "source": [
    "#clf = svm.SVC(kernel='linear')\n",
    "#clf.fit(cifarTrain, cifarTrainLabels) \n",
    "\n",
    "trainLens = [100, 200, 500, 1000, 2000, 4000]\n",
    "\n",
    "for trainLen in trainLens:\n",
    "    clf = svm.SVC(kernel='linear')\n",
    "    clf.fit(cifarTrain[0:trainLen], cifarTrainLabels[0:trainLen]) \n",
    "    success = 0\n",
    "    tries = 0\n",
    "    for i in range(len(cifarValid)):\n",
    "        if ((clf.predict(cifarValid[i]))[0] == cifarValidLabels[i]):\n",
    "            success += 1\n",
    "        tries += 1\n",
    "    print(\"Training set size: \" + str(trainLen) + \", accuracy: \" + str(success/tries)) "
   ]
  },
  {
   "cell_type": "code",
   "execution_count": 30,
   "metadata": {
    "collapsed": false
   },
   "outputs": [
    {
     "name": "stdout",
     "output_type": "stream",
     "text": [
      "Training set size: 1000, C: 100.0, accuracy: 0.8832\n",
      "Training set size: 1000, C: 10.0, accuracy: 0.8832\n",
      "Training set size: 1000, C: 1.0, accuracy: 0.8832\n",
      "Training set size: 1000, C: 0.1, accuracy: 0.8832\n",
      "Training set size: 1000, C: 0.01, accuracy: 0.8832\n",
      "Training set size: 1000, C: 0.001, accuracy: 0.8832\n",
      "Training set size: 1000, C: 0.0001, accuracy: 0.8832\n",
      "Training set size: 1000, C: 1e-05, accuracy: 0.8832\n",
      "Training set size: 1000, C: 1e-06, accuracy: 0.8874\n",
      "Training set size: 1000, C: 1e-07, accuracy: 0.8683\n",
      "Training set size: 1000, C: 1e-08, accuracy: 0.629\n",
      "Training set size: 1000, C: 1e-09, accuracy: 0.1121\n",
      "Training set size: 1000, C: 1e-10, accuracy: 0.1121\n",
      "Training set size: 1000, C: 1e-11, accuracy: 0.1121\n"
     ]
    }
   ],
   "source": [
    "import math\n",
    "\n",
    "hyperParamTrainLen = 1000\n",
    "\n",
    "for cValue in range(1,15):\n",
    "    clf = svm.SVC(C=float(1000.0/math.pow(10.0, cValue)), kernel='linear')\n",
    "    clf.fit(mnistTrain[0:hyperParamTrainLen], mnistTrainLabels[0:hyperParamTrainLen]) \n",
    "    success = 0\n",
    "    tries = 0\n",
    "    for i in range(len(mnistValid)):\n",
    "        if ((clf.predict(mnistValid[i]))[0] == mnistValidLabels[i]):\n",
    "            success += 1\n",
    "        tries += 1\n",
    "    print(\"Training set size: \" + str(hyperParamTrainLen) + \", C: \" + str(float(1000.0/math.pow(10.0, cValue))) + \", accuracy: \" + str(success/tries))"
   ]
  },
  {
   "cell_type": "code",
   "execution_count": 10,
   "metadata": {
    "collapsed": false
   },
   "outputs": [
    {
     "name": "stdout",
     "output_type": "stream",
     "text": [
      "Average accuracy: 0.8012311832478345, cValue: 1.0\n",
      "Average accuracy: 0.796017155832142, cValue: 0.1\n",
      "Average accuracy: 0.7780338070809856, cValue: 0.01\n",
      "Average accuracy: 0.7519296573505638, cValue: 0.001\n",
      "Average accuracy: 0.7177147983068428, cValue: 0.0001\n",
      "Average accuracy: 0.709977854399686, cValue: 1e-05\n",
      "Average accuracy: 0.709980470757529, cValue: 1e-06\n",
      "Average accuracy: 0.7099838346461843, cValue: 1e-07\n",
      "Average accuracy: 0.7099772937515768, cValue: 1e-08\n"
     ]
    }
   ],
   "source": [
    "import math\n",
    "\n",
    "for cValueIter in range(1,10):\n",
    "    cValue = float(10.0/math.pow(10.0, cValueIter))\n",
    "    #clf = svm.SVC(C=cValue, kernel='linear')\n",
    "    k = 5\n",
    "    kf = model_selection.KFold(n_splits=k, shuffle=True)\n",
    "    avgAccuracy = 0.0\n",
    "    for train_index, test_index in kf.split(spamTrain):\n",
    "        #print(\"TRAIN:\", train_index, \"TEST:\", test_index)\n",
    "        X_train = spam[\"training_data\"][train_index]\n",
    "        X_test = spam[\"training_labels\"][0][train_index]\n",
    "        y_train = spam[\"training_data\"][test_index], \n",
    "        y_test = spam[\"training_labels\"][0][test_index]\n",
    "        #clf = svm.SVC(C=float(10.0/math.pow(10.0, cValue)), kernel='linear')\n",
    "        clf = svm.SVC(C=cValue, kernel='linear')\n",
    "        clf.fit(X_train, X_test)\n",
    "        success = 0\n",
    "        tries = 0\n",
    "        for i in range(len(y_train[0])):\n",
    "            if ((clf.predict(y_train[0][i]))[0] == y_test[i]):\n",
    "                success += 1\n",
    "            tries += 1\n",
    "        #print(\"Accuracy: \" + str(success/tries) + \" \" + str(success) + \" \" + str(tries))\n",
    "        avgAccuracy += success/tries;\n",
    "    avgAccuracy /= k\n",
    "    print(\"Average accuracy: \" + str(avgAccuracy) + \", cValue: \" + str(cValue))"
   ]
  },
  {
   "cell_type": "code",
   "execution_count": null,
   "metadata": {
    "collapsed": true
   },
   "outputs": [],
   "source": []
  },
  {
   "cell_type": "code",
   "execution_count": null,
   "metadata": {
    "collapsed": false
   },
   "outputs": [],
   "source": []
  },
  {
   "cell_type": "code",
   "execution_count": null,
   "metadata": {
    "collapsed": true
   },
   "outputs": [],
   "source": []
  }
 ],
 "metadata": {
  "kernelspec": {
   "display_name": "Python 3",
   "language": "python",
   "name": "python3"
  },
  "language_info": {
   "codemirror_mode": {
    "name": "ipython",
    "version": 3
   },
   "file_extension": ".py",
   "mimetype": "text/x-python",
   "name": "python",
   "nbconvert_exporter": "python",
   "pygments_lexer": "ipython3",
   "version": "3.4.5"
  }
 },
 "nbformat": 4,
 "nbformat_minor": 1
}
