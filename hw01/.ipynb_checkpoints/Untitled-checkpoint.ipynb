{
 "cells": [
  {
   "cell_type": "code",
   "execution_count": 8,
   "metadata": {
    "collapsed": false
   },
   "outputs": [
    {
     "name": "stdout",
     "output_type": "stream",
     "text": [
      "{'__version__': '1.0', 'trainX': array([[ 21,  24,  26, ...,  95,  80,   8],\n",
      "       [ 39,  31,  36, ...,  75,  61,   5],\n",
      "       [101, 105,  78, ..., 127, 126,   5],\n",
      "       ..., \n",
      "       [ 51,  56,  56, ...,  85,  80,   4],\n",
      "       [106, 102, 103, ...,  61,  58,   2],\n",
      "       [  2,   2,   2, ...,   1,   1,   5]], dtype=int64), '__header__': b'MATLAB 5.0 MAT-file Platform: posix, Created on: Fri Jan 20 17:23:11 2017', '__globals__': []}\n"
     ]
    }
   ],
   "source": [
    "import numpy as np\n",
    "import scipy\n",
    "import scipy.io\n",
    "from random import shuffle\n",
    "\n",
    "mnistTrain = []\n",
    "mnistTrainLabels = []\n",
    "mnistValid = []\n",
    "mnistValidLabels = []\n",
    "\n",
    "spamValid = []\n",
    "spamValidLabels = []\n",
    "spamTrain = []\n",
    "spamTrainLabels = []\n",
    "\n",
    "cifarValid = []\n",
    "cifarValidLabels = []\n",
    "cifarTrain = []\n",
    "cifarTrainLabels = []\n",
    "\n",
    "mnist = scipy.io.loadmat(\"./hw01_data/mnist/train\")\n",
    "np.random.shuffle(mnist[\"trainX\"])\n",
    "#print(mnist[\"testX\"][0])\n",
    "#print(mnist[\"trainX\"][0])\n",
    "\n",
    "numMnistTrain = 10000 # <= 50000\n",
    "\n",
    "numMnistValid = 10000 \n",
    "for i in range(numMnistValid):\n",
    "    mnistValid.append(mnist[\"trainX\"][i][0:-1])\n",
    "    mnistValidLabels.append(mnist[\"trainX\"][i][-1])\n",
    "for i in range(numMnistValid, numMnistValid + numMnistTrain):\n",
    "    mnistTrain.append(mnist[\"trainX\"][i][0:-1])\n",
    "    mnistTrainLabels.append(mnist[\"trainX\"][i][-1])\n",
    "    \n",
    "#----------\n",
    "    \n",
    "spam = scipy.io.loadmat(\"./hw01_data/spam/spam_data\")\n",
    "#print(spam)\n",
    "\n",
    "indices = [i for i in range(len(spam[\"training_data\"]))]\n",
    "shuffle(indices)\n",
    "\n",
    "spamValidLen = int(0.2*len(spam[\"training_data\"]))\n",
    "#np.random.shuffle(spam[\"training_data\"])\n",
    "for i in range(spamValidLen):\n",
    "    spamValid.append(spam[\"training_data\"][indices[i]])\n",
    "    spamValidLabels.append(spam[\"training_labels\"][0][indices[i]])\n",
    "for i in range(len(spam[\"training_data\"])):\n",
    "    spamTrain.append(spam[\"training_data\"][indices[i]])\n",
    "    spamTrainLabels.append(spam[\"training_labels\"][0][indices[i]])\n",
    "#for i in range(spamValidLen):\n",
    "    #del spamValid[i][-1]\n",
    "    \n",
    "#print(spamValid)\n",
    "#print(spamTrainLabels)\n",
    "\n",
    "#----------\n",
    "\n",
    "cifar = scipy.io.loadmat(\"./hw01_data/cifar/train\")\n",
    "np.random.shuffle(cifar[\"trainX\"])\n",
    "print(cifar)\n",
    "\n",
    "numCifarValid = 5000\n",
    "numCifarTrain = 5000\n",
    "for i in range(numCifarValid):\n",
    "    cifarValid.append(cifar[\"trainX\"][i])\n",
    "    cifarValidLabels.append(cifar[\"trainX\"][i][-1])\n",
    "for i in range(numCifarValid, numCifarValid + numCifarTrain):\n",
    "    cifarTrain.append(cifar[\"trainX\"][i])\n",
    "    cifarTrainLabels.append(cifar[\"trainX\"][i][-1])\n",
    "#for i in range(numCifar):\n",
    "    #del cifarValid[i][-1]\n",
    "    \n",
    "#print(cifarValid)\n",
    "#print(cifarTrainLabels)"
   ]
  },
  {
   "cell_type": "code",
   "execution_count": 37,
   "metadata": {
    "collapsed": false
   },
   "outputs": [],
   "source": [
    "from sklearn import svm\n",
    "from sklearn import model_selection\n",
    "\n",
    "import math\n",
    "\n",
    "import warnings\n",
    "warnings.filterwarnings('ignore')\n"
   ]
  },
  {
   "cell_type": "code",
   "execution_count": 35,
   "metadata": {
    "collapsed": false
   },
   "outputs": [
    {
     "name": "stdout",
     "output_type": "stream",
     "text": [
      "Training set size: 100, accuracy: 0.7572\n",
      "Training set size: 200, accuracy: 0.8238\n",
      "Training set size: 500, accuracy: 0.8503\n",
      "Training set size: 1000, accuracy: 0.8803\n",
      "Training set size: 2000, accuracy: 0.8904\n",
      "Training set size: 5000, accuracy: 0.9004\n",
      "Training set size: 10000, accuracy: 0.9018\n"
     ]
    }
   ],
   "source": [
    "import warnings\n",
    "warnings.filterwarnings('ignore')\n",
    "\n",
    "trainLens = [100, 200, 500, 1000, 2000, 5000, 10000]\n",
    "\n",
    "for trainLen in trainLens:\n",
    "    clf = svm.SVC(kernel='linear')\n",
    "    clf.fit(mnistTrain[0:trainLen], mnistTrainLabels[0:trainLen]) \n",
    "    success = 0\n",
    "    tries = 0\n",
    "    for i in range(len(mnistValid)):\n",
    "        if ((clf.predict(mnistValid[i]))[0] == mnistValidLabels[i]):\n",
    "            success += 1\n",
    "        tries += 1\n",
    "    print(\"Training set size: \" + str(trainLen) + \", accuracy: \" + str(success/tries))"
   ]
  },
  {
   "cell_type": "code",
   "execution_count": 37,
   "metadata": {
    "collapsed": false
   },
   "outputs": [
    {
     "name": "stdout",
     "output_type": "stream",
     "text": [
      "Training set size: 100, accuracy: 0.7949709864603481\n",
      "Training set size: 200, accuracy: 0.8220502901353965\n",
      "Training set size: 500, accuracy: 0.8191489361702128\n",
      "Training set size: 1000, accuracy: 0.816247582205029\n",
      "Training set size: 2000, accuracy: 0.8201160541586073\n",
      "Training set size: 4000, accuracy: 0.8172147001934236\n"
     ]
    }
   ],
   "source": [
    "clf = svm.SVC(kernel='linear')\n",
    "clf.fit(spamTrain, spamTrainLabels) \n",
    "\n",
    "trainLens = [100, 200, 500, 1000, 2000, 4000]\n",
    "\n",
    "for trainLen in trainLens:\n",
    "    clf = svm.SVC(kernel='linear')\n",
    "    clf.fit(spamTrain[0:trainLen], spamTrainLabels[0:trainLen]) \n",
    "    success = 0\n",
    "    tries = 0\n",
    "    for i in range(len(spamValid)):\n",
    "        if ((clf.predict(spamValid[i]))[0] == spamValidLabels[i]):\n",
    "            success += 1\n",
    "        tries += 1\n",
    "    print(\"Training set size: \" + str(trainLen) + \", accuracy: \" + str(success/tries)) "
   ]
  },
  {
   "cell_type": "code",
   "execution_count": 38,
   "metadata": {
    "collapsed": false
   },
   "outputs": [
    {
     "name": "stdout",
     "output_type": "stream",
     "text": [
      "Training set size: 100, accuracy: 0.2246\n",
      "Training set size: 200, accuracy: 0.2414\n",
      "Training set size: 500, accuracy: 0.2764\n",
      "Training set size: 1000, accuracy: 0.2758\n",
      "Training set size: 2000, accuracy: 0.2966\n",
      "Training set size: 4000, accuracy: 0.3056\n"
     ]
    }
   ],
   "source": [
    "clf = svm.SVC(kernel='linear')\n",
    "clf.fit(cifarTrain, cifarTrainLabels) \n",
    "\n",
    "trainLens = [100, 200, 500, 1000, 2000, 4000]\n",
    "\n",
    "for trainLen in trainLens:\n",
    "    clf = svm.SVC(kernel='linear')\n",
    "    clf.fit(cifarTrain[0:trainLen], cifarTrainLabels[0:trainLen]) \n",
    "    success = 0\n",
    "    tries = 0\n",
    "    for i in range(len(cifarValid)):\n",
    "        if ((clf.predict(cifarValid[i]))[0] == cifarValidLabels[i]):\n",
    "            success += 1\n",
    "        tries += 1\n",
    "    print(\"Training set size: \" + str(trainLen) + \", accuracy: \" + str(success/tries)) "
   ]
  },
  {
   "cell_type": "code",
   "execution_count": 52,
   "metadata": {
    "collapsed": false
   },
   "outputs": [
    {
     "name": "stdout",
     "output_type": "stream",
     "text": [
      "Training set size: 1000, C: 1.0, accuracy: 0.8803\n",
      "Training set size: 1000, C: 0.1, accuracy: 0.8803\n",
      "Training set size: 1000, C: 0.01, accuracy: 0.8803\n",
      "Training set size: 1000, C: 0.001, accuracy: 0.8803\n",
      "Training set size: 1000, C: 0.0001, accuracy: 0.8803\n",
      "Training set size: 1000, C: 1e-05, accuracy: 0.8803\n",
      "Training set size: 1000, C: 1e-06, accuracy: 0.8844\n",
      "Training set size: 1000, C: 1e-07, accuracy: 0.8685\n",
      "Training set size: 1000, C: 1e-08, accuracy: 0.5583\n"
     ]
    }
   ],
   "source": [
    "import math\n",
    "\n",
    "hyperParamTrainLen = 1000\n",
    "\n",
    "for cValue in range(1,10):\n",
    "    clf = svm.SVC(C=float(10.0/math.pow(10.0, cValue)), kernel='linear')\n",
    "    clf.fit(mnistTrain[0:hyperParamTrainLen], mnistTrainLabels[0:hyperParamTrainLen]) \n",
    "    success = 0\n",
    "    tries = 0\n",
    "    for i in range(len(mnistValid)):\n",
    "        if ((clf.predict(mnistValid[i]))[0] == mnistValidLabels[i]):\n",
    "            success += 1\n",
    "        tries += 1\n",
    "    print(\"Training set size: \" + str(hyperParamTrainLen) + \", C: \" + str(float(10.0/math.pow(10.0, cValue))) + \", accuracy: \" + str(success/tries))"
   ]
  },
  {
   "cell_type": "code",
   "execution_count": 42,
   "metadata": {
    "collapsed": false
   },
   "outputs": [
    {
     "name": "stdout",
     "output_type": "stream",
     "text": [
      "Average accuracy: 0.8022027864211028, cValue: 1.0\n",
      "Average accuracy: 0.8025928106224128, cValue: 0.1\n",
      "Average accuracy: 0.8004642166344293, cValue: 0.01\n",
      "Average accuracy: 0.8020136611255946, cValue: 0.001\n",
      "Average accuracy: 0.8029794709350675, cValue: 0.0001\n",
      "Average accuracy: 0.8006580139975144, cValue: 1e-05\n",
      "Average accuracy: 0.8014330165671517, cValue: 1e-06\n",
      "Average accuracy: 0.803556377839449, cValue: 1e-07\n",
      "Average accuracy: 0.8010433661312477, cValue: 1e-08\n"
     ]
    }
   ],
   "source": [
    "import math\n",
    "\n",
    "for cValueIter in range(1,10):\n",
    "    cValue = float(10.0/math.pow(10.0, cValueIter))\n",
    "    clf = svm.SVC(C=cValue, kernel='linear')\n",
    "    k = 5\n",
    "    kf = model_selection.KFold(n_splits=k, shuffle=True)\n",
    "    avgAccuracy = 0.0\n",
    "    for train_index, test_index in kf.split(spamTrain):\n",
    "        #print(\"TRAIN:\", train_index, \"TEST:\", test_index)\n",
    "        X_train = spam[\"training_data\"][train_index]\n",
    "        X_test = spam[\"training_labels\"][0][train_index]\n",
    "        y_train = spam[\"training_data\"][test_index], \n",
    "        y_test = spam[\"training_labels\"][0][test_index]\n",
    "        #clf = svm.SVC(C=float(10.0/math.pow(10.0, cValue)), kernel='linear')\n",
    "        clf = svm.SVC(kernel='linear')\n",
    "        clf.fit(X_train, X_test)\n",
    "        success = 0\n",
    "        tries = 0\n",
    "        for i in range(len(y_train[0])):\n",
    "            if ((clf.predict(y_train[0][i]))[0] == y_test[i]):\n",
    "                success += 1\n",
    "            tries += 1\n",
    "        #print(\"Accuracy: \" + str(success/tries) + \" \" + str(success) + \" \" + str(tries))\n",
    "        avgAccuracy += success/tries;\n",
    "    avgAccuracy /= k\n",
    "    print(\"Average accuracy: \" + str(avgAccuracy) + \", cValue: \" + str(cValue))"
   ]
  },
  {
   "cell_type": "code",
   "execution_count": null,
   "metadata": {
    "collapsed": true
   },
   "outputs": [],
   "source": []
  }
 ],
 "metadata": {
  "kernelspec": {
   "display_name": "Python 3",
   "language": "python",
   "name": "python3"
  },
  "language_info": {
   "codemirror_mode": {
    "name": "ipython",
    "version": 3
   },
   "file_extension": ".py",
   "mimetype": "text/x-python",
   "name": "python",
   "nbconvert_exporter": "python",
   "pygments_lexer": "ipython3",
   "version": "3.4.5"
  }
 },
 "nbformat": 4,
 "nbformat_minor": 1
}
