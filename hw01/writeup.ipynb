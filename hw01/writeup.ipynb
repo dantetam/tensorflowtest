{
 "cells": [
  {
   "cell_type": "markdown",
   "metadata": {},
   "source": [
    "Dante Tam\n",
    "\n",
    "26282180\n",
    "\n",
    "The code is an iPython/Jupyter notebook. Run all the cells from top to bottom.\n",
    "\n",
    "### I discussed this homework with no one. I haven't been outside in six days."
   ]
  },
  {
   "cell_type": "markdown",
   "metadata": {},
   "source": [
    "## PROBLEM 1: \n",
    "See cell 1, Shuffle Data"
   ]
  },
  {
   "cell_type": "markdown",
   "metadata": {},
   "source": [
    "## PROBLEM 2:\n",
    "\n",
    "MNIST Validation Accuracy vs. Size of Training Set"
   ]
  },
  {
   "cell_type": "code",
   "execution_count": 6,
   "metadata": {
    "collapsed": false
   },
   "outputs": [],
   "source": [
    "%matplotlib inline\n",
    "\n",
    "import matplotlib\n",
    "import numpy as np\n",
    "import matplotlib.pyplot as plt"
   ]
  },
  {
   "cell_type": "code",
   "execution_count": 17,
   "metadata": {
    "collapsed": false
   },
   "outputs": [
    {
     "data": {
      "image/png": "[encoded data removed]",
      "text/plain": [
       "<matplotlib.figure.Figure at 0x7880a58>"
      ]
     },
     "metadata": {},
     "output_type": "display_data"
    }
   ],
   "source": [
    "xData = [100,200,500,1000,2000,5000,10000]\n",
    "yData = [0.748,0.8188,0.8531,0.8751,0.8926,0.9059,0.9099]\n",
    "plt.plot(xData, yData, 'b-')\n",
    "plt.axis([0, 10000, 0.7, 1])\n",
    "plt.xlabel('Training Set Size')\n",
    "plt.ylabel('Accuracy')\n",
    "plt.show()"
   ]
  },
  {
   "cell_type": "markdown",
   "metadata": {},
   "source": [
    "Spam Validation Accuracy vs. Training Set Size"
   ]
  },
  {
   "cell_type": "code",
   "execution_count": 21,
   "metadata": {
    "collapsed": false
   },
   "outputs": [
    {
     "data": {
      "image/png": "[encoded data removed]",
      "text/plain": [
       "<matplotlib.figure.Figure at 0x77e7fd0>"
      ]
     },
     "metadata": {},
     "output_type": "display_data"
    }
   ],
   "source": [
    "xData = [100,200,500,1000,2000,4000]\n",
    "yData = [0.7446, 0.7794, 0.7920, 0.7978, 0.8056, 0.7959]\n",
    "plt.plot(xData, yData, 'b-')\n",
    "plt.axis([0, 4000, 0.7, 0.9])\n",
    "plt.xlabel('Training Set Size')\n",
    "plt.ylabel('Accuracy')\n",
    "plt.show()"
   ]
  },
  {
   "cell_type": "markdown",
   "metadata": {},
   "source": [
    "CIFAR Validation Accuracy vs. Training Set Size"
   ]
  },
  {
   "cell_type": "code",
   "execution_count": 19,
   "metadata": {
    "collapsed": false
   },
   "outputs": [
    {
     "data": {
      "image/png": "[encoded data removed]",
      "text/plain": [
       "<matplotlib.figure.Figure at 0x775c128>"
      ]
     },
     "metadata": {},
     "output_type": "display_data"
    }
   ],
   "source": [
    "xData = [100,200,500,1000,2000,4000]\n",
    "yData = [0.2134, 0.2526, 0.283, 0.2818, 0.2954, 0.2982]\n",
    "plt.plot(xData, yData, 'b-')\n",
    "plt.axis([0, 4000, 0.2, 0.3])\n",
    "plt.xlabel('Training Set Size')\n",
    "plt.ylabel('Accuracy')\n",
    "plt.show()"
   ]
  },
  {
   "cell_type": "markdown",
   "metadata": {},
   "source": [
    "## PROBLEM 3"
   ]
  },
  {
   "cell_type": "code",
   "execution_count": 26,
   "metadata": {
    "collapsed": false
   },
   "outputs": [
    {
     "data": {
      "text/plain": [
       "1e-06"
      ]
     },
     "execution_count": 26,
     "metadata": {},
     "output_type": "execute_result"
    }
   ],
   "source": [
    "\"\"\"\n",
    "Training set size: 1000, C: 100.0, accuracy: 0.8832\n",
    "Training set size: 1000, C: 10.0, accuracy: 0.8832\n",
    "Training set size: 1000, C: 1.0, accuracy: 0.8832\n",
    "Training set size: 1000, C: 0.1, accuracy: 0.8832\n",
    "Training set size: 1000, C: 0.01, accuracy: 0.8832\n",
    "Training set size: 1000, C: 0.001, accuracy: 0.8832\n",
    "Training set size: 1000, C: 0.0001, accuracy: 0.8832\n",
    "Training set size: 1000, C: 1e-05, accuracy: 0.8832\n",
    "Training set size: 1000, C: 1e-06, accuracy: 0.8874\n",
    "Training set size: 1000, C: 1e-07, accuracy: 0.8683\n",
    "Training set size: 1000, C: 1e-08, accuracy: 0.629\n",
    "Training set size: 1000, C: 1e-09, accuracy: 0.1121\n",
    "Training set size: 1000, C: 1e-10, accuracy: 0.1121\n",
    "Training set size: 1000, C: 1e-11, accuracy: 0.1121\n",
    "\n",
    "Best value is 1e-06.   \n",
    "\"\"\"\n",
    "\n",
    "1e-06"
   ]
  },
  {
   "cell_type": "markdown",
   "metadata": {},
   "source": [
    "## PROBLEM 4:"
   ]
  },
  {
   "cell_type": "code",
   "execution_count": 27,
   "metadata": {
    "collapsed": false
   },
   "outputs": [
    {
     "data": {
      "text/plain": [
       "1.0"
      ]
     },
     "execution_count": 27,
     "metadata": {},
     "output_type": "execute_result"
    }
   ],
   "source": [
    "\"\"\"\n",
    "Average accuracy: 0.8012311832478345, cValue: 1.0\n",
    "Average accuracy: 0.796017155832142, cValue: 0.1\n",
    "Average accuracy: 0.7780338070809856, cValue: 0.01\n",
    "Average accuracy: 0.7519296573505638, cValue: 0.001\n",
    "Average accuracy: 0.7177147983068428, cValue: 0.0001\n",
    "Average accuracy: 0.709977854399686, cValue: 1e-05\n",
    "Average accuracy: 0.709980470757529, cValue: 1e-06\n",
    "Average accuracy: 0.7099838346461843, cValue: 1e-07\n",
    "Average accuracy: 0.7099772937515768, cValue: 1e-08\n",
    "\n",
    "Best value is 1.0.\n",
    "\"\"\"\n",
    "\n",
    "1.0"
   ]
  },
  {
   "cell_type": "markdown",
   "metadata": {},
   "source": [
    "## PROBLEM 5"
   ]
  },
  {
   "cell_type": "markdown",
   "metadata": {},
   "source": [
    "dantetam\n",
    "\n",
    "For MNIST, 0.91460\n",
    "\n",
    "For Spam, 0.84051"
   ]
  },
  {
   "cell_type": "markdown",
   "metadata": {},
   "source": [
    "## APPENDIX"
   ]
  },
  {
   "cell_type": "code",
   "execution_count": null,
   "metadata": {
    "collapsed": true
   },
   "outputs": [],
   "source": []
  }
 ],
 "metadata": {
  "kernelspec": {
   "display_name": "Python 3",
   "language": "python",
   "name": "python3"
  },
  "language_info": {
   "codemirror_mode": {
    "name": "ipython",
    "version": 3
   },
   "file_extension": ".py",
   "mimetype": "text/x-python",
   "name": "python",
   "nbconvert_exporter": "python",
   "pygments_lexer": "ipython3",
   "version": "3.4.5"
  }
 },
 "nbformat": 4,
 "nbformat_minor": 1
}
