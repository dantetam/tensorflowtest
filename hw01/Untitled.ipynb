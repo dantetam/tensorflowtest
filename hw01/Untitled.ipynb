{
 "cells": [
  {
   "cell_type": "code",
   "execution_count": 34,
   "metadata": {
    "collapsed": true
   },
   "outputs": [],
   "source": [
    "%matplotlib inline\n",
    "\n",
    "import matplotlib\n",
    "import numpy as np\n",
    "import matplotlib.pyplot as plt\n",
    "\n",
    "import scipy.stats as ss"
   ]
  },
  {
   "cell_type": "code",
   "execution_count": 19,
   "metadata": {
    "collapsed": false
   },
   "outputs": [
    {
     "data": {
      "text/plain": [
       "[<matplotlib.lines.Line2D at 0x930bcc0>]"
      ]
     },
     "execution_count": 19,
     "metadata": {},
     "output_type": "execute_result"
    },
    {
     "data": {
      "image/png": "[encoded data removed]",
      "text/plain": [
       "<matplotlib.figure.Figure at 0x1b911d0>"
      ]
     },
     "metadata": {},
     "output_type": "display_data"
    }
   ],
   "source": [
    "from scipy.stats import gamma\n",
    "import matplotlib.pyplot as plt\n",
    "fig, ax = plt.subplots(1, 1)\n",
    "\n",
    "a = 1.365\n",
    "theta = 0.444\n",
    "x = np.linspace(gamma.ppf(0.01, a), gamma.ppf(0.99, a), 100)\n",
    "#x = gamma.rvs(a,scale=0.444,size=5000)\n",
    "ax.plot(x, gamma.pdf(x, a, scale=theta), 'r-', lw=2, alpha=0.6, label='gamma pdf')\n",
    "\n",
    "a = 1.595\n",
    "theta = 0.142\n",
    "x = np.linspace(gamma.ppf(0.01, a), gamma.ppf(0.99, a), 100)\n",
    "#x = gamma.rvs(a,scale=0.444,size=5000)\n",
    "ax.plot(x, gamma.pdf(x, a, scale=theta), 'r-', lw=2, alpha=0.6, label='gamma pdf')"
   ]
  },
  {
   "cell_type": "code",
   "execution_count": 42,
   "metadata": {
    "collapsed": false
   },
   "outputs": [
    {
     "name": "stdout",
     "output_type": "stream",
     "text": [
      "0.729433350012 0.442376186463\n",
      "0.687474041419 0.39051471874\n"
     ]
    },
    {
     "data": {
      "text/plain": [
       "(-0.13760804307442542, 1.5964747430980486)"
      ]
     },
     "execution_count": 42,
     "metadata": {},
     "output_type": "execute_result"
    }
   ],
   "source": [
    "whales = np.loadtxt(\"./whales.txt\")\n",
    "alphas = []\n",
    "betas = []\n",
    "for i in range(100):\n",
    "    samples = []\n",
    "    for i in range(30):\n",
    "        sample = np.random.choice(whales)\n",
    "        samples.append(sample)\n",
    "    samples = np.array(samples)\n",
    "    \n",
    "    fit_alpha, fit_loc, fit_beta=ss.gamma.fit(samples)\n",
    "    #print(fit_alpha, fit_loc, fit_beta)\n",
    "    alphas.append(fit_alpha)\n",
    "    betas.append(fit_beta)\n",
    "\n",
    "print(np.mean(alphas), np.std(alphas))\n",
    "print(np.mean(betas), np.std(betas))\n",
    "\n",
    "ss.norm.interval(0.95, loc=np.mean(alphas), scale=np.std(alphas))"
   ]
  },
  {
   "cell_type": "code",
   "execution_count": null,
   "metadata": {
    "collapsed": true
   },
   "outputs": [],
   "source": []
  }
 ],
 "metadata": {
  "kernelspec": {
   "display_name": "Python 3",
   "language": "python",
   "name": "python3"
  },
  "language_info": {
   "codemirror_mode": {
    "name": "ipython",
    "version": 3
   },
   "file_extension": ".py",
   "mimetype": "text/x-python",
   "name": "python",
   "nbconvert_exporter": "python",
   "pygments_lexer": "ipython3",
   "version": "3.4.5"
  }
 },
 "nbformat": 4,
 "nbformat_minor": 1
}
